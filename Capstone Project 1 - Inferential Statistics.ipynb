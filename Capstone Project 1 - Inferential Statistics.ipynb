{
 "cells": [
  {
   "cell_type": "code",
   "execution_count": 1,
   "metadata": {},
   "outputs": [],
   "source": [
    "import numpy as np\n",
    "import pandas as pd\n",
    "import matplotlib.pyplot as plt\n",
    "import seaborn as sns\n",
    "from numpy.random import seed\n",
    "%matplotlib inline"
   ]
  },
  {
   "cell_type": "code",
   "execution_count": 2,
   "metadata": {},
   "outputs": [],
   "source": [
    "sdf = pd.read_csv('wrangled_train_solos_df.csv', index_col=0)"
   ]
  },
  {
   "cell_type": "code",
   "execution_count": 3,
   "metadata": {},
   "outputs": [
    {
     "data": {
      "text/html": [
       "<div>\n",
       "<style scoped>\n",
       "    .dataframe tbody tr th:only-of-type {\n",
       "        vertical-align: middle;\n",
       "    }\n",
       "\n",
       "    .dataframe tbody tr th {\n",
       "        vertical-align: top;\n",
       "    }\n",
       "\n",
       "    .dataframe thead th {\n",
       "        text-align: right;\n",
       "    }\n",
       "</style>\n",
       "<table border=\"1\" class=\"dataframe\">\n",
       "  <thead>\n",
       "    <tr style=\"text-align: right;\">\n",
       "      <th></th>\n",
       "      <th>Id</th>\n",
       "      <th>assists</th>\n",
       "      <th>boosts</th>\n",
       "      <th>damageDealt</th>\n",
       "      <th>headshotKills</th>\n",
       "      <th>heals</th>\n",
       "      <th>killPlace</th>\n",
       "      <th>killPoints</th>\n",
       "      <th>kills</th>\n",
       "      <th>killStreaks</th>\n",
       "      <th>...</th>\n",
       "      <th>rankPoints</th>\n",
       "      <th>rideDistance</th>\n",
       "      <th>roadKills</th>\n",
       "      <th>swimDistance</th>\n",
       "      <th>teamKills</th>\n",
       "      <th>vehicleDestroys</th>\n",
       "      <th>walkDistance</th>\n",
       "      <th>weaponsAcquired</th>\n",
       "      <th>winPoints</th>\n",
       "      <th>winPlacePerc</th>\n",
       "    </tr>\n",
       "  </thead>\n",
       "  <tbody>\n",
       "    <tr>\n",
       "      <th>0</th>\n",
       "      <td>315c96c26c9aac</td>\n",
       "      <td>0</td>\n",
       "      <td>0</td>\n",
       "      <td>100.00</td>\n",
       "      <td>0</td>\n",
       "      <td>0</td>\n",
       "      <td>45</td>\n",
       "      <td>0</td>\n",
       "      <td>1</td>\n",
       "      <td>1</td>\n",
       "      <td>...</td>\n",
       "      <td>1560</td>\n",
       "      <td>0.0</td>\n",
       "      <td>0</td>\n",
       "      <td>0.00</td>\n",
       "      <td>0</td>\n",
       "      <td>0</td>\n",
       "      <td>49.75</td>\n",
       "      <td>2</td>\n",
       "      <td>0</td>\n",
       "      <td>0.1875</td>\n",
       "    </tr>\n",
       "    <tr>\n",
       "      <th>1</th>\n",
       "      <td>311b84c6ff4390</td>\n",
       "      <td>0</td>\n",
       "      <td>0</td>\n",
       "      <td>8.54</td>\n",
       "      <td>0</td>\n",
       "      <td>0</td>\n",
       "      <td>48</td>\n",
       "      <td>1000</td>\n",
       "      <td>0</td>\n",
       "      <td>0</td>\n",
       "      <td>...</td>\n",
       "      <td>-1</td>\n",
       "      <td>2004.0</td>\n",
       "      <td>0</td>\n",
       "      <td>0.00</td>\n",
       "      <td>0</td>\n",
       "      <td>0</td>\n",
       "      <td>1089.00</td>\n",
       "      <td>6</td>\n",
       "      <td>1500</td>\n",
       "      <td>0.7370</td>\n",
       "    </tr>\n",
       "    <tr>\n",
       "      <th>2</th>\n",
       "      <td>b7807186e3f679</td>\n",
       "      <td>0</td>\n",
       "      <td>1</td>\n",
       "      <td>324.20</td>\n",
       "      <td>1</td>\n",
       "      <td>5</td>\n",
       "      <td>5</td>\n",
       "      <td>986</td>\n",
       "      <td>4</td>\n",
       "      <td>1</td>\n",
       "      <td>...</td>\n",
       "      <td>-1</td>\n",
       "      <td>1228.0</td>\n",
       "      <td>0</td>\n",
       "      <td>76.80</td>\n",
       "      <td>0</td>\n",
       "      <td>0</td>\n",
       "      <td>2050.00</td>\n",
       "      <td>6</td>\n",
       "      <td>1462</td>\n",
       "      <td>0.8750</td>\n",
       "    </tr>\n",
       "    <tr>\n",
       "      <th>3</th>\n",
       "      <td>92022479b92ce7</td>\n",
       "      <td>0</td>\n",
       "      <td>3</td>\n",
       "      <td>254.20</td>\n",
       "      <td>0</td>\n",
       "      <td>12</td>\n",
       "      <td>13</td>\n",
       "      <td>0</td>\n",
       "      <td>2</td>\n",
       "      <td>1</td>\n",
       "      <td>...</td>\n",
       "      <td>1536</td>\n",
       "      <td>2368.0</td>\n",
       "      <td>0</td>\n",
       "      <td>15.29</td>\n",
       "      <td>0</td>\n",
       "      <td>0</td>\n",
       "      <td>1787.00</td>\n",
       "      <td>3</td>\n",
       "      <td>0</td>\n",
       "      <td>0.8213</td>\n",
       "    </tr>\n",
       "    <tr>\n",
       "      <th>4</th>\n",
       "      <td>47143f942503e0</td>\n",
       "      <td>0</td>\n",
       "      <td>0</td>\n",
       "      <td>136.90</td>\n",
       "      <td>0</td>\n",
       "      <td>0</td>\n",
       "      <td>37</td>\n",
       "      <td>0</td>\n",
       "      <td>1</td>\n",
       "      <td>1</td>\n",
       "      <td>...</td>\n",
       "      <td>1500</td>\n",
       "      <td>0.0</td>\n",
       "      <td>0</td>\n",
       "      <td>0.00</td>\n",
       "      <td>0</td>\n",
       "      <td>0</td>\n",
       "      <td>270.80</td>\n",
       "      <td>1</td>\n",
       "      <td>0</td>\n",
       "      <td>0.3474</td>\n",
       "    </tr>\n",
       "  </tbody>\n",
       "</table>\n",
       "<p>5 rows × 24 columns</p>\n",
       "</div>"
      ],
      "text/plain": [
       "               Id  assists  boosts  damageDealt  headshotKills  heals  \\\n",
       "0  315c96c26c9aac        0       0       100.00              0      0   \n",
       "1  311b84c6ff4390        0       0         8.54              0      0   \n",
       "2  b7807186e3f679        0       1       324.20              1      5   \n",
       "3  92022479b92ce7        0       3       254.20              0     12   \n",
       "4  47143f942503e0        0       0       136.90              0      0   \n",
       "\n",
       "   killPlace  killPoints  kills  killStreaks  ...  rankPoints  rideDistance  \\\n",
       "0         45           0      1            1  ...        1560           0.0   \n",
       "1         48        1000      0            0  ...          -1        2004.0   \n",
       "2          5         986      4            1  ...          -1        1228.0   \n",
       "3         13           0      2            1  ...        1536        2368.0   \n",
       "4         37           0      1            1  ...        1500           0.0   \n",
       "\n",
       "   roadKills  swimDistance  teamKills  vehicleDestroys  walkDistance  \\\n",
       "0          0          0.00          0                0         49.75   \n",
       "1          0          0.00          0                0       1089.00   \n",
       "2          0         76.80          0                0       2050.00   \n",
       "3          0         15.29          0                0       1787.00   \n",
       "4          0          0.00          0                0        270.80   \n",
       "\n",
       "   weaponsAcquired  winPoints  winPlacePerc  \n",
       "0                2          0        0.1875  \n",
       "1                6       1500        0.7370  \n",
       "2                6       1462        0.8750  \n",
       "3                3          0        0.8213  \n",
       "4                1          0        0.3474  \n",
       "\n",
       "[5 rows x 24 columns]"
      ]
     },
     "execution_count": 3,
     "metadata": {},
     "output_type": "execute_result"
    }
   ],
   "source": [
    "sdf.head()"
   ]
  },
  {
   "cell_type": "code",
   "execution_count": 4,
   "metadata": {},
   "outputs": [
    {
     "name": "stdout",
     "output_type": "stream",
     "text": [
      "<class 'pandas.core.frame.DataFrame'>\n",
      "Int64Index: 719935 entries, 0 to 719934\n",
      "Data columns (total 24 columns):\n",
      "Id                 719935 non-null object\n",
      "assists            719935 non-null int64\n",
      "boosts             719935 non-null int64\n",
      "damageDealt        719935 non-null float64\n",
      "headshotKills      719935 non-null int64\n",
      "heals              719935 non-null int64\n",
      "killPlace          719935 non-null int64\n",
      "killPoints         719935 non-null int64\n",
      "kills              719935 non-null int64\n",
      "killStreaks        719935 non-null int64\n",
      "longestKill        719935 non-null float64\n",
      "matchDuration      719935 non-null int64\n",
      "maxPlace           719935 non-null int64\n",
      "numGroups          719935 non-null int64\n",
      "rankPoints         719935 non-null int64\n",
      "rideDistance       719935 non-null float64\n",
      "roadKills          719935 non-null int64\n",
      "swimDistance       719935 non-null float64\n",
      "teamKills          719935 non-null int64\n",
      "vehicleDestroys    719935 non-null int64\n",
      "walkDistance       719935 non-null float64\n",
      "weaponsAcquired    719935 non-null int64\n",
      "winPoints          719935 non-null int64\n",
      "winPlacePerc       719935 non-null float64\n",
      "dtypes: float64(6), int64(17), object(1)\n",
      "memory usage: 137.3+ MB\n"
     ]
    }
   ],
   "source": [
    "sdf.info()"
   ]
  },
  {
   "cell_type": "code",
   "execution_count": 5,
   "metadata": {},
   "outputs": [
    {
     "data": {
      "text/html": [
       "<div>\n",
       "<style scoped>\n",
       "    .dataframe tbody tr th:only-of-type {\n",
       "        vertical-align: middle;\n",
       "    }\n",
       "\n",
       "    .dataframe tbody tr th {\n",
       "        vertical-align: top;\n",
       "    }\n",
       "\n",
       "    .dataframe thead th {\n",
       "        text-align: right;\n",
       "    }\n",
       "</style>\n",
       "<table border=\"1\" class=\"dataframe\">\n",
       "  <thead>\n",
       "    <tr style=\"text-align: right;\">\n",
       "      <th></th>\n",
       "      <th>assists</th>\n",
       "      <th>boosts</th>\n",
       "      <th>damageDealt</th>\n",
       "      <th>headshotKills</th>\n",
       "      <th>heals</th>\n",
       "      <th>killPlace</th>\n",
       "      <th>killPoints</th>\n",
       "      <th>kills</th>\n",
       "      <th>killStreaks</th>\n",
       "      <th>longestKill</th>\n",
       "      <th>...</th>\n",
       "      <th>rankPoints</th>\n",
       "      <th>rideDistance</th>\n",
       "      <th>roadKills</th>\n",
       "      <th>swimDistance</th>\n",
       "      <th>teamKills</th>\n",
       "      <th>vehicleDestroys</th>\n",
       "      <th>walkDistance</th>\n",
       "      <th>weaponsAcquired</th>\n",
       "      <th>winPoints</th>\n",
       "      <th>winPlacePerc</th>\n",
       "    </tr>\n",
       "  </thead>\n",
       "  <tbody>\n",
       "    <tr>\n",
       "      <th>count</th>\n",
       "      <td>719935.000000</td>\n",
       "      <td>719935.000000</td>\n",
       "      <td>719935.000000</td>\n",
       "      <td>719935.000000</td>\n",
       "      <td>719935.000000</td>\n",
       "      <td>719935.000000</td>\n",
       "      <td>719935.000000</td>\n",
       "      <td>719935.000000</td>\n",
       "      <td>719935.000000</td>\n",
       "      <td>719935.000000</td>\n",
       "      <td>...</td>\n",
       "      <td>719935.000000</td>\n",
       "      <td>719935.000000</td>\n",
       "      <td>719935.000000</td>\n",
       "      <td>719935.000000</td>\n",
       "      <td>719935.000000</td>\n",
       "      <td>719935.000000</td>\n",
       "      <td>719935.000000</td>\n",
       "      <td>719935.000000</td>\n",
       "      <td>719935.000000</td>\n",
       "      <td>719935.000000</td>\n",
       "    </tr>\n",
       "    <tr>\n",
       "      <th>mean</th>\n",
       "      <td>0.060911</td>\n",
       "      <td>1.060325</td>\n",
       "      <td>118.633610</td>\n",
       "      <td>0.247729</td>\n",
       "      <td>1.013273</td>\n",
       "      <td>47.496291</td>\n",
       "      <td>447.312046</td>\n",
       "      <td>0.931581</td>\n",
       "      <td>0.474193</td>\n",
       "      <td>21.526636</td>\n",
       "      <td>...</td>\n",
       "      <td>966.902338</td>\n",
       "      <td>463.387331</td>\n",
       "      <td>0.005117</td>\n",
       "      <td>5.090264</td>\n",
       "      <td>0.011450</td>\n",
       "      <td>0.004514</td>\n",
       "      <td>955.432587</td>\n",
       "      <td>3.583660</td>\n",
       "      <td>557.157886</td>\n",
       "      <td>0.487390</td>\n",
       "    </tr>\n",
       "    <tr>\n",
       "      <th>std</th>\n",
       "      <td>0.285385</td>\n",
       "      <td>1.799858</td>\n",
       "      <td>165.469255</td>\n",
       "      <td>0.648921</td>\n",
       "      <td>2.405053</td>\n",
       "      <td>27.716368</td>\n",
       "      <td>595.075806</td>\n",
       "      <td>1.571316</td>\n",
       "      <td>0.562464</td>\n",
       "      <td>46.526939</td>\n",
       "      <td>...</td>\n",
       "      <td>744.253353</td>\n",
       "      <td>1374.161065</td>\n",
       "      <td>0.088000</td>\n",
       "      <td>34.209275</td>\n",
       "      <td>0.106389</td>\n",
       "      <td>0.069638</td>\n",
       "      <td>1069.792064</td>\n",
       "      <td>2.579846</td>\n",
       "      <td>728.765955</td>\n",
       "      <td>0.298442</td>\n",
       "    </tr>\n",
       "    <tr>\n",
       "      <th>min</th>\n",
       "      <td>0.000000</td>\n",
       "      <td>0.000000</td>\n",
       "      <td>0.000000</td>\n",
       "      <td>0.000000</td>\n",
       "      <td>0.000000</td>\n",
       "      <td>1.000000</td>\n",
       "      <td>0.000000</td>\n",
       "      <td>0.000000</td>\n",
       "      <td>0.000000</td>\n",
       "      <td>0.000000</td>\n",
       "      <td>...</td>\n",
       "      <td>-1.000000</td>\n",
       "      <td>0.000000</td>\n",
       "      <td>0.000000</td>\n",
       "      <td>0.000000</td>\n",
       "      <td>0.000000</td>\n",
       "      <td>0.000000</td>\n",
       "      <td>0.000000</td>\n",
       "      <td>0.000000</td>\n",
       "      <td>0.000000</td>\n",
       "      <td>0.000000</td>\n",
       "    </tr>\n",
       "    <tr>\n",
       "      <th>25%</th>\n",
       "      <td>0.000000</td>\n",
       "      <td>0.000000</td>\n",
       "      <td>0.000000</td>\n",
       "      <td>0.000000</td>\n",
       "      <td>0.000000</td>\n",
       "      <td>23.000000</td>\n",
       "      <td>0.000000</td>\n",
       "      <td>0.000000</td>\n",
       "      <td>0.000000</td>\n",
       "      <td>0.000000</td>\n",
       "      <td>...</td>\n",
       "      <td>-1.000000</td>\n",
       "      <td>0.000000</td>\n",
       "      <td>0.000000</td>\n",
       "      <td>0.000000</td>\n",
       "      <td>0.000000</td>\n",
       "      <td>0.000000</td>\n",
       "      <td>100.400000</td>\n",
       "      <td>2.000000</td>\n",
       "      <td>0.000000</td>\n",
       "      <td>0.229200</td>\n",
       "    </tr>\n",
       "    <tr>\n",
       "      <th>50%</th>\n",
       "      <td>0.000000</td>\n",
       "      <td>0.000000</td>\n",
       "      <td>74.200000</td>\n",
       "      <td>0.000000</td>\n",
       "      <td>0.000000</td>\n",
       "      <td>47.000000</td>\n",
       "      <td>0.000000</td>\n",
       "      <td>0.000000</td>\n",
       "      <td>0.000000</td>\n",
       "      <td>0.000000</td>\n",
       "      <td>...</td>\n",
       "      <td>1496.000000</td>\n",
       "      <td>0.000000</td>\n",
       "      <td>0.000000</td>\n",
       "      <td>0.000000</td>\n",
       "      <td>0.000000</td>\n",
       "      <td>0.000000</td>\n",
       "      <td>502.800000</td>\n",
       "      <td>3.000000</td>\n",
       "      <td>0.000000</td>\n",
       "      <td>0.484000</td>\n",
       "    </tr>\n",
       "    <tr>\n",
       "      <th>75%</th>\n",
       "      <td>0.000000</td>\n",
       "      <td>2.000000</td>\n",
       "      <td>169.100000</td>\n",
       "      <td>0.000000</td>\n",
       "      <td>1.000000</td>\n",
       "      <td>71.000000</td>\n",
       "      <td>1090.000000</td>\n",
       "      <td>1.000000</td>\n",
       "      <td>1.000000</td>\n",
       "      <td>20.810000</td>\n",
       "      <td>...</td>\n",
       "      <td>1517.000000</td>\n",
       "      <td>0.000000</td>\n",
       "      <td>0.000000</td>\n",
       "      <td>0.000000</td>\n",
       "      <td>0.000000</td>\n",
       "      <td>0.000000</td>\n",
       "      <td>1587.000000</td>\n",
       "      <td>5.000000</td>\n",
       "      <td>1492.000000</td>\n",
       "      <td>0.747600</td>\n",
       "    </tr>\n",
       "    <tr>\n",
       "      <th>max</th>\n",
       "      <td>21.000000</td>\n",
       "      <td>28.000000</td>\n",
       "      <td>5480.000000</td>\n",
       "      <td>26.000000</td>\n",
       "      <td>63.000000</td>\n",
       "      <td>100.000000</td>\n",
       "      <td>1970.000000</td>\n",
       "      <td>48.000000</td>\n",
       "      <td>18.000000</td>\n",
       "      <td>1002.000000</td>\n",
       "      <td>...</td>\n",
       "      <td>2857.000000</td>\n",
       "      <td>40700.000000</td>\n",
       "      <td>18.000000</td>\n",
       "      <td>1974.000000</td>\n",
       "      <td>1.000000</td>\n",
       "      <td>5.000000</td>\n",
       "      <td>25780.000000</td>\n",
       "      <td>153.000000</td>\n",
       "      <td>1922.000000</td>\n",
       "      <td>1.000000</td>\n",
       "    </tr>\n",
       "  </tbody>\n",
       "</table>\n",
       "<p>8 rows × 23 columns</p>\n",
       "</div>"
      ],
      "text/plain": [
       "             assists         boosts    damageDealt  headshotKills  \\\n",
       "count  719935.000000  719935.000000  719935.000000  719935.000000   \n",
       "mean        0.060911       1.060325     118.633610       0.247729   \n",
       "std         0.285385       1.799858     165.469255       0.648921   \n",
       "min         0.000000       0.000000       0.000000       0.000000   \n",
       "25%         0.000000       0.000000       0.000000       0.000000   \n",
       "50%         0.000000       0.000000      74.200000       0.000000   \n",
       "75%         0.000000       2.000000     169.100000       0.000000   \n",
       "max        21.000000      28.000000    5480.000000      26.000000   \n",
       "\n",
       "               heals      killPlace     killPoints          kills  \\\n",
       "count  719935.000000  719935.000000  719935.000000  719935.000000   \n",
       "mean        1.013273      47.496291     447.312046       0.931581   \n",
       "std         2.405053      27.716368     595.075806       1.571316   \n",
       "min         0.000000       1.000000       0.000000       0.000000   \n",
       "25%         0.000000      23.000000       0.000000       0.000000   \n",
       "50%         0.000000      47.000000       0.000000       0.000000   \n",
       "75%         1.000000      71.000000    1090.000000       1.000000   \n",
       "max        63.000000     100.000000    1970.000000      48.000000   \n",
       "\n",
       "         killStreaks    longestKill  ...     rankPoints   rideDistance  \\\n",
       "count  719935.000000  719935.000000  ...  719935.000000  719935.000000   \n",
       "mean        0.474193      21.526636  ...     966.902338     463.387331   \n",
       "std         0.562464      46.526939  ...     744.253353    1374.161065   \n",
       "min         0.000000       0.000000  ...      -1.000000       0.000000   \n",
       "25%         0.000000       0.000000  ...      -1.000000       0.000000   \n",
       "50%         0.000000       0.000000  ...    1496.000000       0.000000   \n",
       "75%         1.000000      20.810000  ...    1517.000000       0.000000   \n",
       "max        18.000000    1002.000000  ...    2857.000000   40700.000000   \n",
       "\n",
       "           roadKills   swimDistance      teamKills  vehicleDestroys  \\\n",
       "count  719935.000000  719935.000000  719935.000000    719935.000000   \n",
       "mean        0.005117       5.090264       0.011450         0.004514   \n",
       "std         0.088000      34.209275       0.106389         0.069638   \n",
       "min         0.000000       0.000000       0.000000         0.000000   \n",
       "25%         0.000000       0.000000       0.000000         0.000000   \n",
       "50%         0.000000       0.000000       0.000000         0.000000   \n",
       "75%         0.000000       0.000000       0.000000         0.000000   \n",
       "max        18.000000    1974.000000       1.000000         5.000000   \n",
       "\n",
       "        walkDistance  weaponsAcquired      winPoints   winPlacePerc  \n",
       "count  719935.000000    719935.000000  719935.000000  719935.000000  \n",
       "mean      955.432587         3.583660     557.157886       0.487390  \n",
       "std      1069.792064         2.579846     728.765955       0.298442  \n",
       "min         0.000000         0.000000       0.000000       0.000000  \n",
       "25%       100.400000         2.000000       0.000000       0.229200  \n",
       "50%       502.800000         3.000000       0.000000       0.484000  \n",
       "75%      1587.000000         5.000000    1492.000000       0.747600  \n",
       "max     25780.000000       153.000000    1922.000000       1.000000  \n",
       "\n",
       "[8 rows x 23 columns]"
      ]
     },
     "execution_count": 5,
     "metadata": {},
     "output_type": "execute_result"
    }
   ],
   "source": [
    "sdf.describe()"
   ]
  },
  {
   "cell_type": "markdown",
   "metadata": {},
   "source": [
    "First we're going to look at kills. We'll break this dataframe up into high kill (greater than 5) games and low kill (less than 5) kill games and see if there's any real impact on how that affects the winPlacePerc."
   ]
  },
  {
   "cell_type": "code",
   "execution_count": 6,
   "metadata": {},
   "outputs": [],
   "source": [
    "greater_than = sdf[(sdf['kills'] >= 5)]\n",
    "less_than = sdf[(sdf['kills'] < 5)]"
   ]
  },
  {
   "cell_type": "code",
   "execution_count": 7,
   "metadata": {},
   "outputs": [
    {
     "data": {
      "text/html": [
       "<div>\n",
       "<style scoped>\n",
       "    .dataframe tbody tr th:only-of-type {\n",
       "        vertical-align: middle;\n",
       "    }\n",
       "\n",
       "    .dataframe tbody tr th {\n",
       "        vertical-align: top;\n",
       "    }\n",
       "\n",
       "    .dataframe thead th {\n",
       "        text-align: right;\n",
       "    }\n",
       "</style>\n",
       "<table border=\"1\" class=\"dataframe\">\n",
       "  <thead>\n",
       "    <tr style=\"text-align: right;\">\n",
       "      <th></th>\n",
       "      <th>Id</th>\n",
       "      <th>assists</th>\n",
       "      <th>boosts</th>\n",
       "      <th>damageDealt</th>\n",
       "      <th>headshotKills</th>\n",
       "      <th>heals</th>\n",
       "      <th>killPlace</th>\n",
       "      <th>killPoints</th>\n",
       "      <th>kills</th>\n",
       "      <th>killStreaks</th>\n",
       "      <th>...</th>\n",
       "      <th>rankPoints</th>\n",
       "      <th>rideDistance</th>\n",
       "      <th>roadKills</th>\n",
       "      <th>swimDistance</th>\n",
       "      <th>teamKills</th>\n",
       "      <th>vehicleDestroys</th>\n",
       "      <th>walkDistance</th>\n",
       "      <th>weaponsAcquired</th>\n",
       "      <th>winPoints</th>\n",
       "      <th>winPlacePerc</th>\n",
       "    </tr>\n",
       "  </thead>\n",
       "  <tbody>\n",
       "    <tr>\n",
       "      <th>13</th>\n",
       "      <td>707550186fd7f7</td>\n",
       "      <td>1</td>\n",
       "      <td>6</td>\n",
       "      <td>604.5</td>\n",
       "      <td>2</td>\n",
       "      <td>7</td>\n",
       "      <td>4</td>\n",
       "      <td>0</td>\n",
       "      <td>5</td>\n",
       "      <td>1</td>\n",
       "      <td>...</td>\n",
       "      <td>1543</td>\n",
       "      <td>0.0</td>\n",
       "      <td>0</td>\n",
       "      <td>0.0</td>\n",
       "      <td>0</td>\n",
       "      <td>0</td>\n",
       "      <td>1766.0</td>\n",
       "      <td>2</td>\n",
       "      <td>0</td>\n",
       "      <td>0.9893</td>\n",
       "    </tr>\n",
       "    <tr>\n",
       "      <th>28</th>\n",
       "      <td>eb7a3e9f50eca5</td>\n",
       "      <td>0</td>\n",
       "      <td>5</td>\n",
       "      <td>778.0</td>\n",
       "      <td>3</td>\n",
       "      <td>2</td>\n",
       "      <td>2</td>\n",
       "      <td>1693</td>\n",
       "      <td>8</td>\n",
       "      <td>1</td>\n",
       "      <td>...</td>\n",
       "      <td>-1</td>\n",
       "      <td>0.0</td>\n",
       "      <td>0</td>\n",
       "      <td>0.0</td>\n",
       "      <td>0</td>\n",
       "      <td>0</td>\n",
       "      <td>2422.0</td>\n",
       "      <td>5</td>\n",
       "      <td>1506</td>\n",
       "      <td>1.0000</td>\n",
       "    </tr>\n",
       "    <tr>\n",
       "      <th>54</th>\n",
       "      <td>029a693a75ef57</td>\n",
       "      <td>1</td>\n",
       "      <td>1</td>\n",
       "      <td>568.5</td>\n",
       "      <td>1</td>\n",
       "      <td>0</td>\n",
       "      <td>3</td>\n",
       "      <td>1339</td>\n",
       "      <td>5</td>\n",
       "      <td>1</td>\n",
       "      <td>...</td>\n",
       "      <td>-1</td>\n",
       "      <td>5188.0</td>\n",
       "      <td>1</td>\n",
       "      <td>0.0</td>\n",
       "      <td>0</td>\n",
       "      <td>0</td>\n",
       "      <td>826.5</td>\n",
       "      <td>4</td>\n",
       "      <td>1537</td>\n",
       "      <td>0.5977</td>\n",
       "    </tr>\n",
       "    <tr>\n",
       "      <th>84</th>\n",
       "      <td>f0fcba5a666b24</td>\n",
       "      <td>1</td>\n",
       "      <td>5</td>\n",
       "      <td>704.0</td>\n",
       "      <td>1</td>\n",
       "      <td>6</td>\n",
       "      <td>4</td>\n",
       "      <td>1618</td>\n",
       "      <td>5</td>\n",
       "      <td>1</td>\n",
       "      <td>...</td>\n",
       "      <td>-1</td>\n",
       "      <td>1530.0</td>\n",
       "      <td>0</td>\n",
       "      <td>0.0</td>\n",
       "      <td>0</td>\n",
       "      <td>0</td>\n",
       "      <td>3292.0</td>\n",
       "      <td>4</td>\n",
       "      <td>1635</td>\n",
       "      <td>0.9150</td>\n",
       "    </tr>\n",
       "    <tr>\n",
       "      <th>116</th>\n",
       "      <td>e65e9fa8ba75c6</td>\n",
       "      <td>0</td>\n",
       "      <td>11</td>\n",
       "      <td>817.0</td>\n",
       "      <td>3</td>\n",
       "      <td>1</td>\n",
       "      <td>1</td>\n",
       "      <td>0</td>\n",
       "      <td>9</td>\n",
       "      <td>2</td>\n",
       "      <td>...</td>\n",
       "      <td>1643</td>\n",
       "      <td>0.0</td>\n",
       "      <td>0</td>\n",
       "      <td>0.0</td>\n",
       "      <td>0</td>\n",
       "      <td>0</td>\n",
       "      <td>2396.0</td>\n",
       "      <td>4</td>\n",
       "      <td>0</td>\n",
       "      <td>0.8296</td>\n",
       "    </tr>\n",
       "  </tbody>\n",
       "</table>\n",
       "<p>5 rows × 24 columns</p>\n",
       "</div>"
      ],
      "text/plain": [
       "                 Id  assists  boosts  damageDealt  headshotKills  heals  \\\n",
       "13   707550186fd7f7        1       6        604.5              2      7   \n",
       "28   eb7a3e9f50eca5        0       5        778.0              3      2   \n",
       "54   029a693a75ef57        1       1        568.5              1      0   \n",
       "84   f0fcba5a666b24        1       5        704.0              1      6   \n",
       "116  e65e9fa8ba75c6        0      11        817.0              3      1   \n",
       "\n",
       "     killPlace  killPoints  kills  killStreaks  ...  rankPoints  rideDistance  \\\n",
       "13           4           0      5            1  ...        1543           0.0   \n",
       "28           2        1693      8            1  ...          -1           0.0   \n",
       "54           3        1339      5            1  ...          -1        5188.0   \n",
       "84           4        1618      5            1  ...          -1        1530.0   \n",
       "116          1           0      9            2  ...        1643           0.0   \n",
       "\n",
       "     roadKills  swimDistance  teamKills  vehicleDestroys  walkDistance  \\\n",
       "13           0           0.0          0                0        1766.0   \n",
       "28           0           0.0          0                0        2422.0   \n",
       "54           1           0.0          0                0         826.5   \n",
       "84           0           0.0          0                0        3292.0   \n",
       "116          0           0.0          0                0        2396.0   \n",
       "\n",
       "     weaponsAcquired  winPoints  winPlacePerc  \n",
       "13                 2          0        0.9893  \n",
       "28                 5       1506        1.0000  \n",
       "54                 4       1537        0.5977  \n",
       "84                 4       1635        0.9150  \n",
       "116                4          0        0.8296  \n",
       "\n",
       "[5 rows x 24 columns]"
      ]
     },
     "execution_count": 7,
     "metadata": {},
     "output_type": "execute_result"
    }
   ],
   "source": [
    "greater_than.head()"
   ]
  },
  {
   "cell_type": "code",
   "execution_count": 8,
   "metadata": {},
   "outputs": [
    {
     "data": {
      "text/html": [
       "<div>\n",
       "<style scoped>\n",
       "    .dataframe tbody tr th:only-of-type {\n",
       "        vertical-align: middle;\n",
       "    }\n",
       "\n",
       "    .dataframe tbody tr th {\n",
       "        vertical-align: top;\n",
       "    }\n",
       "\n",
       "    .dataframe thead th {\n",
       "        text-align: right;\n",
       "    }\n",
       "</style>\n",
       "<table border=\"1\" class=\"dataframe\">\n",
       "  <thead>\n",
       "    <tr style=\"text-align: right;\">\n",
       "      <th></th>\n",
       "      <th>Id</th>\n",
       "      <th>assists</th>\n",
       "      <th>boosts</th>\n",
       "      <th>damageDealt</th>\n",
       "      <th>headshotKills</th>\n",
       "      <th>heals</th>\n",
       "      <th>killPlace</th>\n",
       "      <th>killPoints</th>\n",
       "      <th>kills</th>\n",
       "      <th>killStreaks</th>\n",
       "      <th>...</th>\n",
       "      <th>rankPoints</th>\n",
       "      <th>rideDistance</th>\n",
       "      <th>roadKills</th>\n",
       "      <th>swimDistance</th>\n",
       "      <th>teamKills</th>\n",
       "      <th>vehicleDestroys</th>\n",
       "      <th>walkDistance</th>\n",
       "      <th>weaponsAcquired</th>\n",
       "      <th>winPoints</th>\n",
       "      <th>winPlacePerc</th>\n",
       "    </tr>\n",
       "  </thead>\n",
       "  <tbody>\n",
       "    <tr>\n",
       "      <th>0</th>\n",
       "      <td>315c96c26c9aac</td>\n",
       "      <td>0</td>\n",
       "      <td>0</td>\n",
       "      <td>100.00</td>\n",
       "      <td>0</td>\n",
       "      <td>0</td>\n",
       "      <td>45</td>\n",
       "      <td>0</td>\n",
       "      <td>1</td>\n",
       "      <td>1</td>\n",
       "      <td>...</td>\n",
       "      <td>1560</td>\n",
       "      <td>0.0</td>\n",
       "      <td>0</td>\n",
       "      <td>0.00</td>\n",
       "      <td>0</td>\n",
       "      <td>0</td>\n",
       "      <td>49.75</td>\n",
       "      <td>2</td>\n",
       "      <td>0</td>\n",
       "      <td>0.1875</td>\n",
       "    </tr>\n",
       "    <tr>\n",
       "      <th>1</th>\n",
       "      <td>311b84c6ff4390</td>\n",
       "      <td>0</td>\n",
       "      <td>0</td>\n",
       "      <td>8.54</td>\n",
       "      <td>0</td>\n",
       "      <td>0</td>\n",
       "      <td>48</td>\n",
       "      <td>1000</td>\n",
       "      <td>0</td>\n",
       "      <td>0</td>\n",
       "      <td>...</td>\n",
       "      <td>-1</td>\n",
       "      <td>2004.0</td>\n",
       "      <td>0</td>\n",
       "      <td>0.00</td>\n",
       "      <td>0</td>\n",
       "      <td>0</td>\n",
       "      <td>1089.00</td>\n",
       "      <td>6</td>\n",
       "      <td>1500</td>\n",
       "      <td>0.7370</td>\n",
       "    </tr>\n",
       "    <tr>\n",
       "      <th>2</th>\n",
       "      <td>b7807186e3f679</td>\n",
       "      <td>0</td>\n",
       "      <td>1</td>\n",
       "      <td>324.20</td>\n",
       "      <td>1</td>\n",
       "      <td>5</td>\n",
       "      <td>5</td>\n",
       "      <td>986</td>\n",
       "      <td>4</td>\n",
       "      <td>1</td>\n",
       "      <td>...</td>\n",
       "      <td>-1</td>\n",
       "      <td>1228.0</td>\n",
       "      <td>0</td>\n",
       "      <td>76.80</td>\n",
       "      <td>0</td>\n",
       "      <td>0</td>\n",
       "      <td>2050.00</td>\n",
       "      <td>6</td>\n",
       "      <td>1462</td>\n",
       "      <td>0.8750</td>\n",
       "    </tr>\n",
       "    <tr>\n",
       "      <th>3</th>\n",
       "      <td>92022479b92ce7</td>\n",
       "      <td>0</td>\n",
       "      <td>3</td>\n",
       "      <td>254.20</td>\n",
       "      <td>0</td>\n",
       "      <td>12</td>\n",
       "      <td>13</td>\n",
       "      <td>0</td>\n",
       "      <td>2</td>\n",
       "      <td>1</td>\n",
       "      <td>...</td>\n",
       "      <td>1536</td>\n",
       "      <td>2368.0</td>\n",
       "      <td>0</td>\n",
       "      <td>15.29</td>\n",
       "      <td>0</td>\n",
       "      <td>0</td>\n",
       "      <td>1787.00</td>\n",
       "      <td>3</td>\n",
       "      <td>0</td>\n",
       "      <td>0.8213</td>\n",
       "    </tr>\n",
       "    <tr>\n",
       "      <th>4</th>\n",
       "      <td>47143f942503e0</td>\n",
       "      <td>0</td>\n",
       "      <td>0</td>\n",
       "      <td>136.90</td>\n",
       "      <td>0</td>\n",
       "      <td>0</td>\n",
       "      <td>37</td>\n",
       "      <td>0</td>\n",
       "      <td>1</td>\n",
       "      <td>1</td>\n",
       "      <td>...</td>\n",
       "      <td>1500</td>\n",
       "      <td>0.0</td>\n",
       "      <td>0</td>\n",
       "      <td>0.00</td>\n",
       "      <td>0</td>\n",
       "      <td>0</td>\n",
       "      <td>270.80</td>\n",
       "      <td>1</td>\n",
       "      <td>0</td>\n",
       "      <td>0.3474</td>\n",
       "    </tr>\n",
       "  </tbody>\n",
       "</table>\n",
       "<p>5 rows × 24 columns</p>\n",
       "</div>"
      ],
      "text/plain": [
       "               Id  assists  boosts  damageDealt  headshotKills  heals  \\\n",
       "0  315c96c26c9aac        0       0       100.00              0      0   \n",
       "1  311b84c6ff4390        0       0         8.54              0      0   \n",
       "2  b7807186e3f679        0       1       324.20              1      5   \n",
       "3  92022479b92ce7        0       3       254.20              0     12   \n",
       "4  47143f942503e0        0       0       136.90              0      0   \n",
       "\n",
       "   killPlace  killPoints  kills  killStreaks  ...  rankPoints  rideDistance  \\\n",
       "0         45           0      1            1  ...        1560           0.0   \n",
       "1         48        1000      0            0  ...          -1        2004.0   \n",
       "2          5         986      4            1  ...          -1        1228.0   \n",
       "3         13           0      2            1  ...        1536        2368.0   \n",
       "4         37           0      1            1  ...        1500           0.0   \n",
       "\n",
       "   roadKills  swimDistance  teamKills  vehicleDestroys  walkDistance  \\\n",
       "0          0          0.00          0                0         49.75   \n",
       "1          0          0.00          0                0       1089.00   \n",
       "2          0         76.80          0                0       2050.00   \n",
       "3          0         15.29          0                0       1787.00   \n",
       "4          0          0.00          0                0        270.80   \n",
       "\n",
       "   weaponsAcquired  winPoints  winPlacePerc  \n",
       "0                2          0        0.1875  \n",
       "1                6       1500        0.7370  \n",
       "2                6       1462        0.8750  \n",
       "3                3          0        0.8213  \n",
       "4                1          0        0.3474  \n",
       "\n",
       "[5 rows x 24 columns]"
      ]
     },
     "execution_count": 8,
     "metadata": {},
     "output_type": "execute_result"
    }
   ],
   "source": [
    "less_than.head()"
   ]
  },
  {
   "cell_type": "code",
   "execution_count": 9,
   "metadata": {},
   "outputs": [
    {
     "data": {
      "text/plain": [
       "(25384, 694551)"
      ]
     },
     "execution_count": 9,
     "metadata": {},
     "output_type": "execute_result"
    }
   ],
   "source": [
    "greater_than['Id'].count(), less_than['Id'].count()"
   ]
  },
  {
   "cell_type": "markdown",
   "metadata": {},
   "source": [
    "A lot more people had less than 5 kills than had 5 or more kills. Let's see if there's any correlation to winPlacePerc"
   ]
  },
  {
   "cell_type": "code",
   "execution_count": 10,
   "metadata": {},
   "outputs": [],
   "source": [
    "def bootstrap_reps(data, func):\n",
    "    bs_sample = np.random.choice(data, size=len(data))\n",
    "    return func(bs_sample)"
   ]
  },
  {
   "cell_type": "code",
   "execution_count": 11,
   "metadata": {},
   "outputs": [],
   "source": [
    "np.random.seed(47)\n",
    "N_rep = 10000\n",
    "\n",
    "greater_bs_reps = np.empty(N_rep)\n",
    "less_bs_reps = np.empty(N_rep)"
   ]
  },
  {
   "cell_type": "code",
   "execution_count": 12,
   "metadata": {},
   "outputs": [
    {
     "name": "stdout",
     "output_type": "stream",
     "text": [
      "[0.89408181 0.8974301 ] [0.47178149 0.47315208]\n"
     ]
    }
   ],
   "source": [
    "for i in range(N_rep):\n",
    "    greater_bs_reps[i] = bootstrap_reps(greater_than['winPlacePerc'], np.mean)\n",
    "\n",
    "for i in range(N_rep):\n",
    "    less_bs_reps[i] = bootstrap_reps(less_than['winPlacePerc'], np.mean)\n",
    "\n",
    "print(np.percentile(greater_bs_reps, [2.5, 97.5]), np.percentile(less_bs_reps, [2.5, 97.5]))"
   ]
  },
  {
   "cell_type": "code",
   "execution_count": 13,
   "metadata": {},
   "outputs": [
    {
     "data": {
      "text/plain": [
       "(0.8957556058934651, 0.4724657043183147)"
      ]
     },
     "execution_count": 13,
     "metadata": {},
     "output_type": "execute_result"
    }
   ],
   "source": [
    "np.mean(greater_than['winPlacePerc']), np.mean(less_than['winPlacePerc'])"
   ]
  },
  {
   "cell_type": "code",
   "execution_count": 14,
   "metadata": {},
   "outputs": [
    {
     "data": {
      "text/plain": [
       "<matplotlib.lines.Line2D at 0x1e0ca2b0128>"
      ]
     },
     "execution_count": 14,
     "metadata": {},
     "output_type": "execute_result"
    },
    {
     "data": {
      "image/png": "[encoded data removed]",
      "text/plain": [
       "<Figure size 432x288 with 1 Axes>"
      ]
     },
     "metadata": {
      "needs_background": "light"
     },
     "output_type": "display_data"
    }
   ],
   "source": [
    "plt.hist(greater_bs_reps, histtype='step', color='b')\n",
    "plt.xlabel('winPlacePerc')\n",
    "plt.ylabel('Number of people')\n",
    "plt.axvline(np.percentile(greater_bs_reps, 2.5), linewidth=1, color='b', linestyle='--')\n",
    "plt.axvline(np.percentile(greater_bs_reps, 97.5), linewidth=1, color='b', linestyle='--')"
   ]
  },
  {
   "cell_type": "code",
   "execution_count": 15,
   "metadata": {},
   "outputs": [
    {
     "data": {
      "text/plain": [
       "<matplotlib.lines.Line2D at 0x1e0ca4bf048>"
      ]
     },
     "execution_count": 15,
     "metadata": {},
     "output_type": "execute_result"
    },
    {
     "data": {
      "image/png": "[encoded data removed]",
      "text/plain": [
       "<Figure size 432x288 with 1 Axes>"
      ]
     },
     "metadata": {
      "needs_background": "light"
     },
     "output_type": "display_data"
    }
   ],
   "source": [
    "plt.hist(less_bs_reps, histtype='step', color='r')\n",
    "plt.xlabel('winPlacePerc')\n",
    "plt.ylabel('Number of people')\n",
    "plt.axvline(np.percentile(less_bs_reps, 2.5), linewidth=1, color='r', linestyle='--')\n",
    "plt.axvline(np.percentile(less_bs_reps, 97.5), linewidth=1, color='r', linestyle='--')"
   ]
  },
  {
   "cell_type": "markdown",
   "metadata": {},
   "source": [
    "Overall it does seem like the more kills you have, the more likely you are to win. The means of the winPlacePerc in the greater_than dataframe is much higher than that of the less_than dataframe. And the histograms built off the bootstrap tests show that."
   ]
  },
  {
   "cell_type": "markdown",
   "metadata": {},
   "source": [
    "Now what about the p-value? If our null hypothesis is: it is likely that someone can win a game with less than 5 kills as it is with 5 or more kills. A p-value test could prove if we should accept or reject that hypothesis. Fortunately scipy has a function for that."
   ]
  },
  {
   "cell_type": "code",
   "execution_count": 16,
   "metadata": {},
   "outputs": [
    {
     "data": {
      "text/plain": [
       "Ttest_indResult(statistic=452.7039301763968, pvalue=0.0)"
      ]
     },
     "execution_count": 16,
     "metadata": {},
     "output_type": "execute_result"
    }
   ],
   "source": [
    "from scipy.stats import ttest_ind\n",
    "ttest_ind(greater_than['winPlacePerc'], less_than['winPlacePerc'], equal_var=False)"
   ]
  },
  {
   "cell_type": "markdown",
   "metadata": {},
   "source": [
    "A p-value of zero. So it is not likely at all to observe an average win place percentage of people with less than 5 kills that is as high as the average win place percentage of people with 5 or more kills."
   ]
  },
  {
   "cell_type": "markdown",
   "metadata": {},
   "source": [
    "Using Statsmodels, we can take a look at a number of different features in this data set and see if they are a good predictor for winPlacePerc"
   ]
  },
  {
   "cell_type": "code",
   "execution_count": 17,
   "metadata": {},
   "outputs": [],
   "source": [
    "import statsmodels.api as sm\n",
    "from statsmodels.formula.api import ols"
   ]
  },
  {
   "cell_type": "code",
   "execution_count": 18,
   "metadata": {},
   "outputs": [
    {
     "name": "stdout",
     "output_type": "stream",
     "text": [
      "                            OLS Regression Results                            \n",
      "==============================================================================\n",
      "Dep. Variable:           winPlacePerc   R-squared:                       0.233\n",
      "Model:                            OLS   Adj. R-squared:                  0.233\n",
      "Method:                 Least Squares   F-statistic:                 2.183e+05\n",
      "Date:                Thu, 29 Aug 2019   Prob (F-statistic):               0.00\n",
      "Time:                        11:37:50   Log-Likelihood:                -55692.\n",
      "No. Observations:              719935   AIC:                         1.114e+05\n",
      "Df Residuals:                  719933   BIC:                         1.114e+05\n",
      "Df Model:                           1                                         \n",
      "Covariance Type:            nonrobust                                         \n",
      "==============================================================================\n",
      "                 coef    std err          t      P>|t|      [0.025      0.975]\n",
      "------------------------------------------------------------------------------\n",
      "Intercept      0.4020      0.000   1122.431      0.000       0.401       0.403\n",
      "kills          0.0916      0.000    467.186      0.000       0.091       0.092\n",
      "==============================================================================\n",
      "Omnibus:                     2275.176   Durbin-Watson:                   2.000\n",
      "Prob(Omnibus):                  0.000   Jarque-Bera (JB):             2984.367\n",
      "Skew:                          -0.029   Prob(JB):                         0.00\n",
      "Kurtosis:                       3.310   Cond. No.                         2.33\n",
      "==============================================================================\n",
      "\n",
      "Warnings:\n",
      "[1] Standard Errors assume that the covariance matrix of the errors is correctly specified.\n"
     ]
    }
   ],
   "source": [
    "m = ols('winPlacePerc ~ kills', sdf).fit()\n",
    "print(m.summary())"
   ]
  },
  {
   "cell_type": "markdown",
   "metadata": {},
   "source": [
    "ols gave us the same p-value as our bootstrap test earlier did. Let's put some other variables into this and see what else is statistically significant. From our data exploration, damage dealt, kill place, heals, and weapons acquired were also features that could be potentially interesting to look at."
   ]
  },
  {
   "cell_type": "code",
   "execution_count": 19,
   "metadata": {},
   "outputs": [
    {
     "name": "stdout",
     "output_type": "stream",
     "text": [
      "                            OLS Regression Results                            \n",
      "==============================================================================\n",
      "Dep. Variable:           winPlacePerc   R-squared:                       0.237\n",
      "Model:                            OLS   Adj. R-squared:                  0.237\n",
      "Method:                 Least Squares   F-statistic:                 2.242e+05\n",
      "Date:                Thu, 29 Aug 2019   Prob (F-statistic):               0.00\n",
      "Time:                        11:41:28   Log-Likelihood:                -53424.\n",
      "No. Observations:              719935   AIC:                         1.069e+05\n",
      "Df Residuals:                  719933   BIC:                         1.069e+05\n",
      "Df Model:                           1                                         \n",
      "Covariance Type:            nonrobust                                         \n",
      "===============================================================================\n",
      "                  coef    std err          t      P>|t|      [0.025      0.975]\n",
      "-------------------------------------------------------------------------------\n",
      "Intercept       0.3831      0.000   1013.745      0.000       0.382       0.384\n",
      "damageDealt     0.0009   1.86e-06    473.489      0.000       0.001       0.001\n",
      "==============================================================================\n",
      "Omnibus:                      841.239   Durbin-Watson:                   2.000\n",
      "Prob(Omnibus):                  0.000   Jarque-Bera (JB):              982.317\n",
      "Skew:                          -0.022   Prob(JB):                    4.93e-214\n",
      "Kurtosis:                       3.176   Cond. No.                         251.\n",
      "==============================================================================\n",
      "\n",
      "Warnings:\n",
      "[1] Standard Errors assume that the covariance matrix of the errors is correctly specified.\n"
     ]
    }
   ],
   "source": [
    "m = ols('winPlacePerc ~ damageDealt', sdf).fit()\n",
    "print(m.summary())"
   ]
  },
  {
   "cell_type": "code",
   "execution_count": 20,
   "metadata": {},
   "outputs": [
    {
     "name": "stdout",
     "output_type": "stream",
     "text": [
      "                            OLS Regression Results                            \n",
      "==============================================================================\n",
      "Dep. Variable:           winPlacePerc   R-squared:                       0.576\n",
      "Model:                            OLS   Adj. R-squared:                  0.576\n",
      "Method:                 Least Squares   F-statistic:                 9.767e+05\n",
      "Date:                Thu, 29 Aug 2019   Prob (F-statistic):               0.00\n",
      "Time:                        11:41:40   Log-Likelihood:             1.5758e+05\n",
      "No. Observations:              719935   AIC:                        -3.151e+05\n",
      "Df Residuals:                  719933   BIC:                        -3.151e+05\n",
      "Df Model:                           1                                         \n",
      "Covariance Type:            nonrobust                                         \n",
      "==============================================================================\n",
      "                 coef    std err          t      P>|t|      [0.025      0.975]\n",
      "------------------------------------------------------------------------------\n",
      "Intercept      0.8754      0.000   1925.738      0.000       0.875       0.876\n",
      "killPlace     -0.0082   8.27e-06   -988.298      0.000      -0.008      -0.008\n",
      "==============================================================================\n",
      "Omnibus:                    87766.276   Durbin-Watson:                   2.001\n",
      "Prob(Omnibus):                  0.000   Jarque-Bera (JB):           191586.844\n",
      "Skew:                          -0.747   Prob(JB):                         0.00\n",
      "Kurtosis:                       5.038   Cond. No.                         109.\n",
      "==============================================================================\n",
      "\n",
      "Warnings:\n",
      "[1] Standard Errors assume that the covariance matrix of the errors is correctly specified.\n"
     ]
    }
   ],
   "source": [
    "m = ols('winPlacePerc ~ killPlace', sdf).fit()\n",
    "print(m.summary())"
   ]
  },
  {
   "cell_type": "code",
   "execution_count": 21,
   "metadata": {},
   "outputs": [
    {
     "name": "stdout",
     "output_type": "stream",
     "text": [
      "                            OLS Regression Results                            \n",
      "==============================================================================\n",
      "Dep. Variable:           winPlacePerc   R-squared:                       0.161\n",
      "Model:                            OLS   Adj. R-squared:                  0.161\n",
      "Method:                 Least Squares   F-statistic:                 1.385e+05\n",
      "Date:                Thu, 29 Aug 2019   Prob (F-statistic):               0.00\n",
      "Time:                        11:41:47   Log-Likelihood:                -87691.\n",
      "No. Observations:              719935   AIC:                         1.754e+05\n",
      "Df Residuals:                  719933   BIC:                         1.754e+05\n",
      "Df Model:                           1                                         \n",
      "Covariance Type:            nonrobust                                         \n",
      "==============================================================================\n",
      "                 coef    std err          t      P>|t|      [0.025      0.975]\n",
      "------------------------------------------------------------------------------\n",
      "Intercept      0.4369      0.000   1249.905      0.000       0.436       0.438\n",
      "heals          0.0498      0.000    372.105      0.000       0.050       0.050\n",
      "==============================================================================\n",
      "Omnibus:                    41040.702   Durbin-Watson:                   1.999\n",
      "Prob(Omnibus):                  0.000   Jarque-Bera (JB):            15391.751\n",
      "Skew:                           0.017   Prob(JB):                         0.00\n",
      "Kurtosis:                       2.284   Cond. No.                         2.90\n",
      "==============================================================================\n",
      "\n",
      "Warnings:\n",
      "[1] Standard Errors assume that the covariance matrix of the errors is correctly specified.\n"
     ]
    }
   ],
   "source": [
    "m = ols('winPlacePerc ~ heals', sdf).fit()\n",
    "print(m.summary())"
   ]
  },
  {
   "cell_type": "code",
   "execution_count": 22,
   "metadata": {},
   "outputs": [
    {
     "name": "stdout",
     "output_type": "stream",
     "text": [
      "                            OLS Regression Results                            \n",
      "==============================================================================\n",
      "Dep. Variable:           winPlacePerc   R-squared:                       0.369\n",
      "Model:                            OLS   Adj. R-squared:                  0.369\n",
      "Method:                 Least Squares   F-statistic:                 4.213e+05\n",
      "Date:                Thu, 29 Aug 2019   Prob (F-statistic):               0.00\n",
      "Time:                        11:42:00   Log-Likelihood:                 14827.\n",
      "No. Observations:              719935   AIC:                        -2.965e+04\n",
      "Df Residuals:                  719933   BIC:                        -2.963e+04\n",
      "Df Model:                           1                                         \n",
      "Covariance Type:            nonrobust                                         \n",
      "===================================================================================\n",
      "                      coef    std err          t      P>|t|      [0.025      0.975]\n",
      "-----------------------------------------------------------------------------------\n",
      "Intercept           0.2355      0.000    492.523      0.000       0.235       0.236\n",
      "weaponsAcquired     0.0703      0.000    649.074      0.000       0.070       0.070\n",
      "==============================================================================\n",
      "Omnibus:                   263472.197   Durbin-Watson:                   1.997\n",
      "Prob(Omnibus):                  0.000   Jarque-Bera (JB):         13685268.543\n",
      "Skew:                          -0.995   Prob(JB):                         0.00\n",
      "Kurtosis:                      24.266   Cond. No.                         7.82\n",
      "==============================================================================\n",
      "\n",
      "Warnings:\n",
      "[1] Standard Errors assume that the covariance matrix of the errors is correctly specified.\n"
     ]
    }
   ],
   "source": [
    "m = ols('winPlacePerc ~ weaponsAcquired', sdf).fit()\n",
    "print(m.summary())"
   ]
  },
  {
   "cell_type": "markdown",
   "metadata": {},
   "source": [
    "Looking at these, they all have p-values of 0, which means that all of these variables are statistically significant predictors of win place percentage. However, looking at the $R^2$ values, some seem to be more correlated than others. Specifically killPlace. Let's look at it using a joint plot from Seaborn with a linear regression line added in."
   ]
  },
  {
   "cell_type": "code",
   "execution_count": 28,
   "metadata": {},
   "outputs": [
    {
     "data": {
      "text/plain": [
       "<seaborn.axisgrid.JointGrid at 0x1e0ead7d240>"
      ]
     },
     "execution_count": 28,
     "metadata": {},
     "output_type": "execute_result"
    },
    {
     "data": {
      "image/png": "[encoded data removed]",
      "text/plain": [
       "<Figure size 432x432 with 3 Axes>"
      ]
     },
     "metadata": {
      "needs_background": "light"
     },
     "output_type": "display_data"
    }
   ],
   "source": [
    "sns.jointplot(x='killPlace', y='winPlacePerc', data=sdf, xlim=(100,0), kind='reg', joint_kws={'line_kws':{'color':'red'}})"
   ]
  },
  {
   "cell_type": "markdown",
   "metadata": {},
   "source": [
    "killPlace seems to be a fairly good indicator of winPlacePerc, based on this graph and linear regression line."
   ]
  },
  {
   "cell_type": "markdown",
   "metadata": {},
   "source": [
    "The next best of the variables tested was weaponsAcquired, let's see how that jointplot looks with a linear regression line over top of it."
   ]
  },
  {
   "cell_type": "code",
   "execution_count": 33,
   "metadata": {},
   "outputs": [
    {
     "data": {
      "text/plain": [
       "<seaborn.axisgrid.JointGrid at 0x1e0eadd5e10>"
      ]
     },
     "execution_count": 33,
     "metadata": {},
     "output_type": "execute_result"
    },
    {
     "data": {
      "image/png": "[encoded data removed]",
      "text/plain": [
       "<Figure size 432x432 with 3 Axes>"
      ]
     },
     "metadata": {
      "needs_background": "light"
     },
     "output_type": "display_data"
    }
   ],
   "source": [
    "sns.jointplot(x='weaponsAcquired', y='winPlacePerc', data=sdf, ylim=(0,1), kind='reg', joint_kws={'line_kws':{'color':'red'}})"
   ]
  },
  {
   "cell_type": "code",
   "execution_count": null,
   "metadata": {},
   "outputs": [],
   "source": []
  }
 ],
 "metadata": {
  "kernelspec": {
   "display_name": "Python 3",
   "language": "python",
   "name": "python3"
  },
  "language_info": {
   "codemirror_mode": {
    "name": "ipython",
    "version": 3
   },
   "file_extension": ".py",
   "mimetype": "text/x-python",
   "name": "python",
   "nbconvert_exporter": "python",
   "pygments_lexer": "ipython3",
   "version": "3.7.3"
  }
 },
 "nbformat": 4,
 "nbformat_minor": 2
}
