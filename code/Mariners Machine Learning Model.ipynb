{
 "cells": [
  {
   "cell_type": "code",
   "execution_count": 1,
   "metadata": {},
   "outputs": [],
   "source": [
    "import numpy as np\n",
    "import pandas as pd\n",
    "import matplotlib.pyplot as plt\n",
    "import seaborn as sns\n",
    "%matplotlib inline\n",
    "\n",
    "from sklearn.model_selection import train_test_split, GridSearchCV\n",
    "from sklearn.metrics import confusion_matrix, classification_report, precision_recall_curve, auc, matthews_corrcoef\n",
    "from sklearn.pipeline import Pipeline\n",
    "\n",
    "import xgboost as xgb\n",
    "from xgboost import XGBClassifier\n",
    "\n",
    "from joblib import dump"
   ]
  },
  {
   "cell_type": "code",
   "execution_count": 2,
   "metadata": {},
   "outputs": [],
   "source": [
    "train_df = pd.read_csv('../Data/2020-train.csv')"
   ]
  },
  {
   "cell_type": "code",
   "execution_count": 3,
   "metadata": {},
   "outputs": [],
   "source": [
    "is_strike = []\n",
    "is_strike_list = ['InPlay', 'StrikeCalled', 'StrikeSwinging', 'FoulBall']\n",
    "for i in train_df['pitch_call']:\n",
    "    if i in is_strike_list:\n",
    "        is_strike.append(1)\n",
    "    else: \n",
    "        is_strike.append(0)\n",
    "train_df['is_strike'] = is_strike"
   ]
  },
  {
   "cell_type": "code",
   "execution_count": 4,
   "metadata": {},
   "outputs": [],
   "source": [
    "def clean_and_wrangle(df):\n",
    "    \n",
    "    df = df.drop(df[df['release_speed'].isnull()].index)\n",
    "    df = df.drop(df[df['outs'].isnull()].index)\n",
    "    df['spin_rate'].fillna(df['spin_rate'].mean(), inplace=True)\n",
    "    df = df.drop(df[df['tilt'].isnull()].index)\n",
    "    df = df.drop(df[df['pitch_type'].isnull()].index)\n",
    "    df = df.reset_index().drop('index', axis=1)\n",
    "    \n",
    "    df['tilt'] = df['tilt'].map(lambda x: sum(a*int(t) for a, t in zip([3600, 60], x.split(':'))) \\\n",
    "                                          if ':' in x else int(x[:-5]))\n",
    "    return df"
   ]
  },
  {
   "cell_type": "code",
   "execution_count": 5,
   "metadata": {},
   "outputs": [],
   "source": [
    "train_df = clean_and_wrangle(train_df)"
   ]
  },
  {
   "cell_type": "code",
   "execution_count": 6,
   "metadata": {},
   "outputs": [],
   "source": [
    "X = train_df.drop(['pitcher_id', 'batter_id', 'stadium_id', 'umpire_id', 'catcher_id', 'pitch_call', 'is_strike', 'pitch_id'], axis=1)\n",
    "y = train_df['is_strike']\n",
    "\n",
    "X_train, X_test, y_train, y_test = train_test_split(X, y, stratify=y, random_state=34)\n",
    "\n",
    "X_train = pd.get_dummies(X_train, prefix=['pitcher', 'batter', 'is'], columns=['pitcher_side', 'batter_side', 'pitch_type'])\n",
    "X_test = pd.get_dummies(X_test, prefix=['pitcher', 'batter', 'is'], columns=['pitcher_side', 'batter_side', 'pitch_type'])"
   ]
  },
  {
   "cell_type": "code",
   "execution_count": 7,
   "metadata": {},
   "outputs": [
    {
     "data": {
      "text/plain": [
       "GridSearchCV(cv=3, error_score=nan,\n",
       "             estimator=Pipeline(memory=None,\n",
       "                                steps=[('xgb',\n",
       "                                        XGBClassifier(base_score=0.5,\n",
       "                                                      booster='gbtree',\n",
       "                                                      colsample_bylevel=1,\n",
       "                                                      colsample_bynode=1,\n",
       "                                                      colsample_bytree=1,\n",
       "                                                      gamma=0,\n",
       "                                                      learning_rate=0.1,\n",
       "                                                      max_delta_step=0,\n",
       "                                                      max_depth=3,\n",
       "                                                      min_child_weight=1,\n",
       "                                                      missing=None,\n",
       "                                                      n_estimators=100,\n",
       "                                                      n_jobs=1, nthread=None,\n",
       "                                                      objective='binary:logistic',\n",
       "                                                      random_state=0,\n",
       "                                                      reg_alpha=0, reg_lambda=1,\n",
       "                                                      scale_pos_weight=1,\n",
       "                                                      seed=34, silent=None,\n",
       "                                                      subsample=1,\n",
       "                                                      verbosity=1))],\n",
       "                                verbose=False),\n",
       "             iid='deprecated', n_jobs=None,\n",
       "             param_grid={'xgb__n_estimators': array([ 200,  300,  400,  500,  600,  700,  800,  900, 1000])},\n",
       "             pre_dispatch='2*n_jobs', refit=True, return_train_score=False,\n",
       "             scoring=None, verbose=0)"
      ]
     },
     "execution_count": 7,
     "metadata": {},
     "output_type": "execute_result"
    }
   ],
   "source": [
    "steps = [('xgb', XGBClassifier(seed=34))]\n",
    "param_grid = {'xgb__n_estimators': np.arange(200, 1100, 100)}\n",
    "pipeline = Pipeline(steps)\n",
    "cv_1 = GridSearchCV(pipeline, param_grid, cv=3)\n",
    "cv_1.fit(X_train, y_train)"
   ]
  },
  {
   "cell_type": "code",
   "execution_count": 8,
   "metadata": {},
   "outputs": [
    {
     "name": "stdout",
     "output_type": "stream",
     "text": [
      "{'xgb__n_estimators': 900} 0.8690059652694787\n"
     ]
    }
   ],
   "source": [
    "print(cv_1.best_params_, cv_1.best_score_)\n",
    "n_estimators = cv_1.best_params_['xgb__n_estimators']"
   ]
  },
  {
   "cell_type": "code",
   "execution_count": 9,
   "metadata": {},
   "outputs": [
    {
     "data": {
      "text/plain": [
       "GridSearchCV(cv=3, error_score=nan,\n",
       "             estimator=Pipeline(memory=None,\n",
       "                                steps=[('xgb',\n",
       "                                        XGBClassifier(base_score=0.5,\n",
       "                                                      booster='gbtree',\n",
       "                                                      colsample_bylevel=1,\n",
       "                                                      colsample_bynode=1,\n",
       "                                                      colsample_bytree=1,\n",
       "                                                      gamma=0,\n",
       "                                                      learning_rate=0.1,\n",
       "                                                      max_delta_step=0,\n",
       "                                                      max_depth=3,\n",
       "                                                      min_child_weight=1,\n",
       "                                                      missing=None,\n",
       "                                                      n_estimators=900,\n",
       "                                                      n_jobs=1, nthread=None,\n",
       "                                                      objective='binary:logistic',\n",
       "                                                      random_state=0,\n",
       "                                                      reg_alpha=0, reg_lambda=1,\n",
       "                                                      scale_pos_weight=1,\n",
       "                                                      seed=34, silent=None,\n",
       "                                                      subsample=1,\n",
       "                                                      verbosity=1))],\n",
       "                                verbose=False),\n",
       "             iid='deprecated', n_jobs=None,\n",
       "             param_grid={'xgb__max_depth': array([3, 5, 7, 9])},\n",
       "             pre_dispatch='2*n_jobs', refit=True, return_train_score=False,\n",
       "             scoring=None, verbose=0)"
      ]
     },
     "execution_count": 9,
     "metadata": {},
     "output_type": "execute_result"
    }
   ],
   "source": [
    "steps = [('xgb', XGBClassifier(n_estimators=n_estimators, seed=34))]\n",
    "param_grid = {'xgb__max_depth': np.arange(3,10,2)}\n",
    "pipeline = Pipeline(steps)\n",
    "cv_2 = GridSearchCV(pipeline, param_grid, cv=3)\n",
    "cv_2.fit(X_train, y_train)"
   ]
  },
  {
   "cell_type": "code",
   "execution_count": 10,
   "metadata": {},
   "outputs": [
    {
     "name": "stdout",
     "output_type": "stream",
     "text": [
      "{'xgb__max_depth': 5} 0.8697434097759663\n"
     ]
    }
   ],
   "source": [
    "print(cv_2.best_params_, cv_2.best_score_)\n",
    "max_depth = cv_2.best_params_['xgb__max_depth']"
   ]
  },
  {
   "cell_type": "code",
   "execution_count": 11,
   "metadata": {},
   "outputs": [
    {
     "name": "stdout",
     "output_type": "stream",
     "text": [
      "{'xgb__gamma': 0.5} 0.8699524670372843\n"
     ]
    }
   ],
   "source": [
    "steps = [('xgb', XGBClassifier(n_estimators=n_estimators, max_depth=max_depth, seed=34))]\n",
    "param_grid = {'xgb__gamma': [0, .1, .25, .5, 1]}\n",
    "pipeline = Pipeline(steps)\n",
    "cv_3 = GridSearchCV(pipeline, param_grid, cv=3)\n",
    "cv_3.fit(X_train, y_train)\n",
    "print(cv_3.best_params_, cv_3.best_score_)\n",
    "gamma = cv_3.best_params_['xgb__gamma']"
   ]
  },
  {
   "cell_type": "code",
   "execution_count": 12,
   "metadata": {},
   "outputs": [
    {
     "name": "stdout",
     "output_type": "stream",
     "text": [
      "{'xgb__learning_rate': 0.1} 0.8699524670372843\n"
     ]
    }
   ],
   "source": [
    "steps = [('xgb', XGBClassifier(n_estimators=n_estimators, max_depth=max_depth, gamma=gamma, seed=34))]\n",
    "param_grid = {'xgb__learning_rate': np.arange(0.05, 0.35, .05)}\n",
    "pipeline = Pipeline(steps)\n",
    "cv_4 = GridSearchCV(pipeline, param_grid, cv=3)\n",
    "cv_4.fit(X_train, y_train)\n",
    "print(cv_4.best_params_, cv_4.best_score_)\n",
    "learning_rate = cv_4.best_params_['xgb__learning_rate']"
   ]
  },
  {
   "cell_type": "code",
   "execution_count": 19,
   "metadata": {},
   "outputs": [
    {
     "name": "stderr",
     "output_type": "stream",
     "text": [
      "C:\\Users\\David C. Buehler\\Anaconda3\\lib\\site-packages\\sklearn\\model_selection\\_validation.py:536: FitFailedWarning: Estimator fit failed. The score on this train-test partition for these parameters will be set to nan. Details: \n",
      "xgboost.core.XGBoostError: value 1.1 for Parameter colsample_bytree exceed bound [0,1]\n",
      "\n",
      "  FitFailedWarning)\n"
     ]
    },
    {
     "name": "stdout",
     "output_type": "stream",
     "text": [
      "{'xgb__colsample_bytree': 0.7999999999999999} 0.8700880106227418\n"
     ]
    }
   ],
   "source": [
    "steps = [('xgb', XGBClassifier(n_estimators=n_estimators, max_depth=max_depth, gamma=gamma, seed=34))]\n",
    "param_grid = {'xgb__colsample_bytree': np.arange(0.5, 1.1, .1)}\n",
    "pipeline = Pipeline(steps)\n",
    "cv_5 = GridSearchCV(pipeline, param_grid, cv=3)\n",
    "cv_5.fit(X_train, y_train)\n",
    "print(cv_5.best_params_, cv_5.best_score_)\n",
    "colsample_bytree = cv_5.best_params_['xgb__colsample_bytree']"
   ]
  },
  {
   "cell_type": "code",
   "execution_count": 26,
   "metadata": {},
   "outputs": [
    {
     "name": "stdout",
     "output_type": "stream",
     "text": [
      "{'xgb__n_estimators': 800} 0.8701109839502493\n"
     ]
    }
   ],
   "source": [
    "steps = [('xgb', XGBClassifier(max_depth=max_depth, gamma=gamma, learning_rate=learning_rate, \n",
    "                               colsample_bytree=colsample_bytree, seed=34))]\n",
    "param_grid = {'xgb__n_estimators': np.arange(200, 1100, 100)}\n",
    "pipeline = Pipeline(steps)\n",
    "cv_final = GridSearchCV(pipeline, param_grid, cv=3)\n",
    "cv_final.fit(X_train, y_train)\n",
    "print(cv_final.best_params_, cv_final.best_score_)\n",
    "n_estimators = cv_final.best_params_['xgb__n_estimators']"
   ]
  },
  {
   "cell_type": "code",
   "execution_count": 27,
   "metadata": {},
   "outputs": [
    {
     "data": {
      "text/plain": [
       "XGBClassifier(base_score=0.5, booster='gbtree', colsample_bylevel=1,\n",
       "              colsample_bynode=1, colsample_bytree=1, gamma=0.5,\n",
       "              learning_rate=0.1, max_delta_step=0, max_depth=5,\n",
       "              min_child_weight=1, missing=None, n_estimators=800, n_jobs=1,\n",
       "              nthread=None, objective='binary:logistic', random_state=0,\n",
       "              reg_alpha=0, reg_lambda=1, scale_pos_weight=1, seed=34,\n",
       "              silent=None, subsample=1.0, verbosity=1)"
      ]
     },
     "execution_count": 27,
     "metadata": {},
     "output_type": "execute_result"
    }
   ],
   "source": [
    "xgb = XGBClassifier(n_estimators=n_estimators, max_depth=max_depth, \n",
    "                    gamma=gamma, learning_rate=learning_rate, subsample=subsample, seed=34)\n",
    "xgb.fit(X_train, y_train)"
   ]
  },
  {
   "cell_type": "code",
   "execution_count": 28,
   "metadata": {},
   "outputs": [
    {
     "data": {
      "text/plain": [
       "['xgboost_model.pkl']"
      ]
     },
     "execution_count": 28,
     "metadata": {},
     "output_type": "execute_result"
    }
   ],
   "source": [
    "model_filename = 'xgboost_model.pkl'\n",
    "dump(xgb, model_filename)"
   ]
  },
  {
   "cell_type": "code",
   "execution_count": 29,
   "metadata": {},
   "outputs": [
    {
     "name": "stdout",
     "output_type": "stream",
     "text": [
      "              precision    recall  f1-score   support\n",
      "\n",
      "           0       0.82      0.82      0.82     52217\n",
      "           1       0.90      0.90      0.90     92879\n",
      "\n",
      "    accuracy                           0.87    145096\n",
      "   macro avg       0.86      0.86      0.86    145096\n",
      "weighted avg       0.87      0.87      0.87    145096\n",
      "\n"
     ]
    }
   ],
   "source": [
    "xgb_pred = xgb.predict(X_test)\n",
    "\n",
    "print(classification_report(xgb_pred, y_test))"
   ]
  }
 ],
 "metadata": {
  "kernelspec": {
   "display_name": "Python 3",
   "language": "python",
   "name": "python3"
  },
  "language_info": {
   "codemirror_mode": {
    "name": "ipython",
    "version": 3
   },
   "file_extension": ".py",
   "mimetype": "text/x-python",
   "name": "python",
   "nbconvert_exporter": "python",
   "pygments_lexer": "ipython3",
   "version": "3.7.6"
  }
 },
 "nbformat": 4,
 "nbformat_minor": 2
}
