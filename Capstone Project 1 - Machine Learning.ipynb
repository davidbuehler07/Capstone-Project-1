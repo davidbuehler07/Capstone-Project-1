{
 "cells": [
  {
   "cell_type": "code",
   "execution_count": 1,
   "metadata": {},
   "outputs": [],
   "source": [
    "import numpy as np\n",
    "import pandas as pd\n",
    "import matplotlib.pyplot as plt\n",
    "import seaborn as sns\n",
    "\n",
    "from sklearn.model_selection import train_test_split\n",
    "from sklearn.linear_model import LinearRegression, Ridge, Lasso\n",
    "from sklearn.neighbors import KNeighborsRegressor\n",
    "from sklearn.ensemble import RandomForestRegressor\n",
    "from sklearn.metrics import mean_squared_error\n",
    "\n",
    "%matplotlib inline"
   ]
  },
  {
   "cell_type": "code",
   "execution_count": 2,
   "metadata": {},
   "outputs": [],
   "source": [
    "solos_df = pd.read_csv('wrangled_train_solos_df.csv', index_col=0)"
   ]
  },
  {
   "cell_type": "code",
   "execution_count": 3,
   "metadata": {},
   "outputs": [
    {
     "data": {
      "text/html": [
       "<div>\n",
       "<style scoped>\n",
       "    .dataframe tbody tr th:only-of-type {\n",
       "        vertical-align: middle;\n",
       "    }\n",
       "\n",
       "    .dataframe tbody tr th {\n",
       "        vertical-align: top;\n",
       "    }\n",
       "\n",
       "    .dataframe thead th {\n",
       "        text-align: right;\n",
       "    }\n",
       "</style>\n",
       "<table border=\"1\" class=\"dataframe\">\n",
       "  <thead>\n",
       "    <tr style=\"text-align: right;\">\n",
       "      <th></th>\n",
       "      <th>Id</th>\n",
       "      <th>assists</th>\n",
       "      <th>boosts</th>\n",
       "      <th>damageDealt</th>\n",
       "      <th>headshotKills</th>\n",
       "      <th>heals</th>\n",
       "      <th>killPlace</th>\n",
       "      <th>killPoints</th>\n",
       "      <th>kills</th>\n",
       "      <th>killStreaks</th>\n",
       "      <th>...</th>\n",
       "      <th>rankPoints</th>\n",
       "      <th>rideDistance</th>\n",
       "      <th>roadKills</th>\n",
       "      <th>swimDistance</th>\n",
       "      <th>teamKills</th>\n",
       "      <th>vehicleDestroys</th>\n",
       "      <th>walkDistance</th>\n",
       "      <th>weaponsAcquired</th>\n",
       "      <th>winPoints</th>\n",
       "      <th>winPlacePerc</th>\n",
       "    </tr>\n",
       "  </thead>\n",
       "  <tbody>\n",
       "    <tr>\n",
       "      <th>0</th>\n",
       "      <td>315c96c26c9aac</td>\n",
       "      <td>0</td>\n",
       "      <td>0</td>\n",
       "      <td>100.00</td>\n",
       "      <td>0</td>\n",
       "      <td>0</td>\n",
       "      <td>45</td>\n",
       "      <td>0</td>\n",
       "      <td>1</td>\n",
       "      <td>1</td>\n",
       "      <td>...</td>\n",
       "      <td>1560</td>\n",
       "      <td>0.0</td>\n",
       "      <td>0</td>\n",
       "      <td>0.00</td>\n",
       "      <td>0</td>\n",
       "      <td>0</td>\n",
       "      <td>49.75</td>\n",
       "      <td>2</td>\n",
       "      <td>0</td>\n",
       "      <td>0.1875</td>\n",
       "    </tr>\n",
       "    <tr>\n",
       "      <th>1</th>\n",
       "      <td>311b84c6ff4390</td>\n",
       "      <td>0</td>\n",
       "      <td>0</td>\n",
       "      <td>8.54</td>\n",
       "      <td>0</td>\n",
       "      <td>0</td>\n",
       "      <td>48</td>\n",
       "      <td>1000</td>\n",
       "      <td>0</td>\n",
       "      <td>0</td>\n",
       "      <td>...</td>\n",
       "      <td>-1</td>\n",
       "      <td>2004.0</td>\n",
       "      <td>0</td>\n",
       "      <td>0.00</td>\n",
       "      <td>0</td>\n",
       "      <td>0</td>\n",
       "      <td>1089.00</td>\n",
       "      <td>6</td>\n",
       "      <td>1500</td>\n",
       "      <td>0.7370</td>\n",
       "    </tr>\n",
       "    <tr>\n",
       "      <th>2</th>\n",
       "      <td>b7807186e3f679</td>\n",
       "      <td>0</td>\n",
       "      <td>1</td>\n",
       "      <td>324.20</td>\n",
       "      <td>1</td>\n",
       "      <td>5</td>\n",
       "      <td>5</td>\n",
       "      <td>986</td>\n",
       "      <td>4</td>\n",
       "      <td>1</td>\n",
       "      <td>...</td>\n",
       "      <td>-1</td>\n",
       "      <td>1228.0</td>\n",
       "      <td>0</td>\n",
       "      <td>76.80</td>\n",
       "      <td>0</td>\n",
       "      <td>0</td>\n",
       "      <td>2050.00</td>\n",
       "      <td>6</td>\n",
       "      <td>1462</td>\n",
       "      <td>0.8750</td>\n",
       "    </tr>\n",
       "    <tr>\n",
       "      <th>3</th>\n",
       "      <td>92022479b92ce7</td>\n",
       "      <td>0</td>\n",
       "      <td>3</td>\n",
       "      <td>254.20</td>\n",
       "      <td>0</td>\n",
       "      <td>12</td>\n",
       "      <td>13</td>\n",
       "      <td>0</td>\n",
       "      <td>2</td>\n",
       "      <td>1</td>\n",
       "      <td>...</td>\n",
       "      <td>1536</td>\n",
       "      <td>2368.0</td>\n",
       "      <td>0</td>\n",
       "      <td>15.29</td>\n",
       "      <td>0</td>\n",
       "      <td>0</td>\n",
       "      <td>1787.00</td>\n",
       "      <td>3</td>\n",
       "      <td>0</td>\n",
       "      <td>0.8213</td>\n",
       "    </tr>\n",
       "    <tr>\n",
       "      <th>4</th>\n",
       "      <td>47143f942503e0</td>\n",
       "      <td>0</td>\n",
       "      <td>0</td>\n",
       "      <td>136.90</td>\n",
       "      <td>0</td>\n",
       "      <td>0</td>\n",
       "      <td>37</td>\n",
       "      <td>0</td>\n",
       "      <td>1</td>\n",
       "      <td>1</td>\n",
       "      <td>...</td>\n",
       "      <td>1500</td>\n",
       "      <td>0.0</td>\n",
       "      <td>0</td>\n",
       "      <td>0.00</td>\n",
       "      <td>0</td>\n",
       "      <td>0</td>\n",
       "      <td>270.80</td>\n",
       "      <td>1</td>\n",
       "      <td>0</td>\n",
       "      <td>0.3474</td>\n",
       "    </tr>\n",
       "  </tbody>\n",
       "</table>\n",
       "<p>5 rows × 24 columns</p>\n",
       "</div>"
      ],
      "text/plain": [
       "               Id  assists  boosts  damageDealt  headshotKills  heals  \\\n",
       "0  315c96c26c9aac        0       0       100.00              0      0   \n",
       "1  311b84c6ff4390        0       0         8.54              0      0   \n",
       "2  b7807186e3f679        0       1       324.20              1      5   \n",
       "3  92022479b92ce7        0       3       254.20              0     12   \n",
       "4  47143f942503e0        0       0       136.90              0      0   \n",
       "\n",
       "   killPlace  killPoints  kills  killStreaks  ...  rankPoints  rideDistance  \\\n",
       "0         45           0      1            1  ...        1560           0.0   \n",
       "1         48        1000      0            0  ...          -1        2004.0   \n",
       "2          5         986      4            1  ...          -1        1228.0   \n",
       "3         13           0      2            1  ...        1536        2368.0   \n",
       "4         37           0      1            1  ...        1500           0.0   \n",
       "\n",
       "   roadKills  swimDistance  teamKills  vehicleDestroys  walkDistance  \\\n",
       "0          0          0.00          0                0         49.75   \n",
       "1          0          0.00          0                0       1089.00   \n",
       "2          0         76.80          0                0       2050.00   \n",
       "3          0         15.29          0                0       1787.00   \n",
       "4          0          0.00          0                0        270.80   \n",
       "\n",
       "   weaponsAcquired  winPoints  winPlacePerc  \n",
       "0                2          0        0.1875  \n",
       "1                6       1500        0.7370  \n",
       "2                6       1462        0.8750  \n",
       "3                3          0        0.8213  \n",
       "4                1          0        0.3474  \n",
       "\n",
       "[5 rows x 24 columns]"
      ]
     },
     "execution_count": 3,
     "metadata": {},
     "output_type": "execute_result"
    }
   ],
   "source": [
    "solos_df.head()"
   ]
  },
  {
   "cell_type": "code",
   "execution_count": 4,
   "metadata": {},
   "outputs": [
    {
     "data": {
      "text/html": [
       "<div>\n",
       "<style scoped>\n",
       "    .dataframe tbody tr th:only-of-type {\n",
       "        vertical-align: middle;\n",
       "    }\n",
       "\n",
       "    .dataframe tbody tr th {\n",
       "        vertical-align: top;\n",
       "    }\n",
       "\n",
       "    .dataframe thead th {\n",
       "        text-align: right;\n",
       "    }\n",
       "</style>\n",
       "<table border=\"1\" class=\"dataframe\">\n",
       "  <thead>\n",
       "    <tr style=\"text-align: right;\">\n",
       "      <th></th>\n",
       "      <th>assists</th>\n",
       "      <th>boosts</th>\n",
       "      <th>damageDealt</th>\n",
       "      <th>headshotKills</th>\n",
       "      <th>heals</th>\n",
       "      <th>killPlace</th>\n",
       "      <th>killPoints</th>\n",
       "      <th>kills</th>\n",
       "      <th>killStreaks</th>\n",
       "      <th>longestKill</th>\n",
       "      <th>...</th>\n",
       "      <th>rankPoints</th>\n",
       "      <th>rideDistance</th>\n",
       "      <th>roadKills</th>\n",
       "      <th>swimDistance</th>\n",
       "      <th>teamKills</th>\n",
       "      <th>vehicleDestroys</th>\n",
       "      <th>walkDistance</th>\n",
       "      <th>weaponsAcquired</th>\n",
       "      <th>winPoints</th>\n",
       "      <th>winPlacePerc</th>\n",
       "    </tr>\n",
       "  </thead>\n",
       "  <tbody>\n",
       "    <tr>\n",
       "      <th>count</th>\n",
       "      <td>719935.000000</td>\n",
       "      <td>719935.000000</td>\n",
       "      <td>719935.000000</td>\n",
       "      <td>719935.000000</td>\n",
       "      <td>719935.000000</td>\n",
       "      <td>719935.000000</td>\n",
       "      <td>719935.000000</td>\n",
       "      <td>719935.000000</td>\n",
       "      <td>719935.000000</td>\n",
       "      <td>719935.000000</td>\n",
       "      <td>...</td>\n",
       "      <td>719935.000000</td>\n",
       "      <td>719935.000000</td>\n",
       "      <td>719935.000000</td>\n",
       "      <td>719935.000000</td>\n",
       "      <td>719935.000000</td>\n",
       "      <td>719935.000000</td>\n",
       "      <td>719935.000000</td>\n",
       "      <td>719935.000000</td>\n",
       "      <td>719935.000000</td>\n",
       "      <td>719935.000000</td>\n",
       "    </tr>\n",
       "    <tr>\n",
       "      <th>mean</th>\n",
       "      <td>0.060911</td>\n",
       "      <td>1.060325</td>\n",
       "      <td>118.633610</td>\n",
       "      <td>0.247729</td>\n",
       "      <td>1.013273</td>\n",
       "      <td>47.496291</td>\n",
       "      <td>447.312046</td>\n",
       "      <td>0.931581</td>\n",
       "      <td>0.474193</td>\n",
       "      <td>21.526636</td>\n",
       "      <td>...</td>\n",
       "      <td>966.902338</td>\n",
       "      <td>463.387331</td>\n",
       "      <td>0.005117</td>\n",
       "      <td>5.090264</td>\n",
       "      <td>0.011450</td>\n",
       "      <td>0.004514</td>\n",
       "      <td>955.432587</td>\n",
       "      <td>3.583660</td>\n",
       "      <td>557.157886</td>\n",
       "      <td>0.487390</td>\n",
       "    </tr>\n",
       "    <tr>\n",
       "      <th>std</th>\n",
       "      <td>0.285385</td>\n",
       "      <td>1.799858</td>\n",
       "      <td>165.469255</td>\n",
       "      <td>0.648921</td>\n",
       "      <td>2.405053</td>\n",
       "      <td>27.716368</td>\n",
       "      <td>595.075806</td>\n",
       "      <td>1.571316</td>\n",
       "      <td>0.562464</td>\n",
       "      <td>46.526939</td>\n",
       "      <td>...</td>\n",
       "      <td>744.253353</td>\n",
       "      <td>1374.161065</td>\n",
       "      <td>0.088000</td>\n",
       "      <td>34.209275</td>\n",
       "      <td>0.106389</td>\n",
       "      <td>0.069638</td>\n",
       "      <td>1069.792064</td>\n",
       "      <td>2.579846</td>\n",
       "      <td>728.765955</td>\n",
       "      <td>0.298442</td>\n",
       "    </tr>\n",
       "    <tr>\n",
       "      <th>min</th>\n",
       "      <td>0.000000</td>\n",
       "      <td>0.000000</td>\n",
       "      <td>0.000000</td>\n",
       "      <td>0.000000</td>\n",
       "      <td>0.000000</td>\n",
       "      <td>1.000000</td>\n",
       "      <td>0.000000</td>\n",
       "      <td>0.000000</td>\n",
       "      <td>0.000000</td>\n",
       "      <td>0.000000</td>\n",
       "      <td>...</td>\n",
       "      <td>-1.000000</td>\n",
       "      <td>0.000000</td>\n",
       "      <td>0.000000</td>\n",
       "      <td>0.000000</td>\n",
       "      <td>0.000000</td>\n",
       "      <td>0.000000</td>\n",
       "      <td>0.000000</td>\n",
       "      <td>0.000000</td>\n",
       "      <td>0.000000</td>\n",
       "      <td>0.000000</td>\n",
       "    </tr>\n",
       "    <tr>\n",
       "      <th>25%</th>\n",
       "      <td>0.000000</td>\n",
       "      <td>0.000000</td>\n",
       "      <td>0.000000</td>\n",
       "      <td>0.000000</td>\n",
       "      <td>0.000000</td>\n",
       "      <td>23.000000</td>\n",
       "      <td>0.000000</td>\n",
       "      <td>0.000000</td>\n",
       "      <td>0.000000</td>\n",
       "      <td>0.000000</td>\n",
       "      <td>...</td>\n",
       "      <td>-1.000000</td>\n",
       "      <td>0.000000</td>\n",
       "      <td>0.000000</td>\n",
       "      <td>0.000000</td>\n",
       "      <td>0.000000</td>\n",
       "      <td>0.000000</td>\n",
       "      <td>100.400000</td>\n",
       "      <td>2.000000</td>\n",
       "      <td>0.000000</td>\n",
       "      <td>0.229200</td>\n",
       "    </tr>\n",
       "    <tr>\n",
       "      <th>50%</th>\n",
       "      <td>0.000000</td>\n",
       "      <td>0.000000</td>\n",
       "      <td>74.200000</td>\n",
       "      <td>0.000000</td>\n",
       "      <td>0.000000</td>\n",
       "      <td>47.000000</td>\n",
       "      <td>0.000000</td>\n",
       "      <td>0.000000</td>\n",
       "      <td>0.000000</td>\n",
       "      <td>0.000000</td>\n",
       "      <td>...</td>\n",
       "      <td>1496.000000</td>\n",
       "      <td>0.000000</td>\n",
       "      <td>0.000000</td>\n",
       "      <td>0.000000</td>\n",
       "      <td>0.000000</td>\n",
       "      <td>0.000000</td>\n",
       "      <td>502.800000</td>\n",
       "      <td>3.000000</td>\n",
       "      <td>0.000000</td>\n",
       "      <td>0.484000</td>\n",
       "    </tr>\n",
       "    <tr>\n",
       "      <th>75%</th>\n",
       "      <td>0.000000</td>\n",
       "      <td>2.000000</td>\n",
       "      <td>169.100000</td>\n",
       "      <td>0.000000</td>\n",
       "      <td>1.000000</td>\n",
       "      <td>71.000000</td>\n",
       "      <td>1090.000000</td>\n",
       "      <td>1.000000</td>\n",
       "      <td>1.000000</td>\n",
       "      <td>20.810000</td>\n",
       "      <td>...</td>\n",
       "      <td>1517.000000</td>\n",
       "      <td>0.000000</td>\n",
       "      <td>0.000000</td>\n",
       "      <td>0.000000</td>\n",
       "      <td>0.000000</td>\n",
       "      <td>0.000000</td>\n",
       "      <td>1587.000000</td>\n",
       "      <td>5.000000</td>\n",
       "      <td>1492.000000</td>\n",
       "      <td>0.747600</td>\n",
       "    </tr>\n",
       "    <tr>\n",
       "      <th>max</th>\n",
       "      <td>21.000000</td>\n",
       "      <td>28.000000</td>\n",
       "      <td>5480.000000</td>\n",
       "      <td>26.000000</td>\n",
       "      <td>63.000000</td>\n",
       "      <td>100.000000</td>\n",
       "      <td>1970.000000</td>\n",
       "      <td>48.000000</td>\n",
       "      <td>18.000000</td>\n",
       "      <td>1002.000000</td>\n",
       "      <td>...</td>\n",
       "      <td>2857.000000</td>\n",
       "      <td>40700.000000</td>\n",
       "      <td>18.000000</td>\n",
       "      <td>1974.000000</td>\n",
       "      <td>1.000000</td>\n",
       "      <td>5.000000</td>\n",
       "      <td>25780.000000</td>\n",
       "      <td>153.000000</td>\n",
       "      <td>1922.000000</td>\n",
       "      <td>1.000000</td>\n",
       "    </tr>\n",
       "  </tbody>\n",
       "</table>\n",
       "<p>8 rows × 23 columns</p>\n",
       "</div>"
      ],
      "text/plain": [
       "             assists         boosts    damageDealt  headshotKills  \\\n",
       "count  719935.000000  719935.000000  719935.000000  719935.000000   \n",
       "mean        0.060911       1.060325     118.633610       0.247729   \n",
       "std         0.285385       1.799858     165.469255       0.648921   \n",
       "min         0.000000       0.000000       0.000000       0.000000   \n",
       "25%         0.000000       0.000000       0.000000       0.000000   \n",
       "50%         0.000000       0.000000      74.200000       0.000000   \n",
       "75%         0.000000       2.000000     169.100000       0.000000   \n",
       "max        21.000000      28.000000    5480.000000      26.000000   \n",
       "\n",
       "               heals      killPlace     killPoints          kills  \\\n",
       "count  719935.000000  719935.000000  719935.000000  719935.000000   \n",
       "mean        1.013273      47.496291     447.312046       0.931581   \n",
       "std         2.405053      27.716368     595.075806       1.571316   \n",
       "min         0.000000       1.000000       0.000000       0.000000   \n",
       "25%         0.000000      23.000000       0.000000       0.000000   \n",
       "50%         0.000000      47.000000       0.000000       0.000000   \n",
       "75%         1.000000      71.000000    1090.000000       1.000000   \n",
       "max        63.000000     100.000000    1970.000000      48.000000   \n",
       "\n",
       "         killStreaks    longestKill  ...     rankPoints   rideDistance  \\\n",
       "count  719935.000000  719935.000000  ...  719935.000000  719935.000000   \n",
       "mean        0.474193      21.526636  ...     966.902338     463.387331   \n",
       "std         0.562464      46.526939  ...     744.253353    1374.161065   \n",
       "min         0.000000       0.000000  ...      -1.000000       0.000000   \n",
       "25%         0.000000       0.000000  ...      -1.000000       0.000000   \n",
       "50%         0.000000       0.000000  ...    1496.000000       0.000000   \n",
       "75%         1.000000      20.810000  ...    1517.000000       0.000000   \n",
       "max        18.000000    1002.000000  ...    2857.000000   40700.000000   \n",
       "\n",
       "           roadKills   swimDistance      teamKills  vehicleDestroys  \\\n",
       "count  719935.000000  719935.000000  719935.000000    719935.000000   \n",
       "mean        0.005117       5.090264       0.011450         0.004514   \n",
       "std         0.088000      34.209275       0.106389         0.069638   \n",
       "min         0.000000       0.000000       0.000000         0.000000   \n",
       "25%         0.000000       0.000000       0.000000         0.000000   \n",
       "50%         0.000000       0.000000       0.000000         0.000000   \n",
       "75%         0.000000       0.000000       0.000000         0.000000   \n",
       "max        18.000000    1974.000000       1.000000         5.000000   \n",
       "\n",
       "        walkDistance  weaponsAcquired      winPoints   winPlacePerc  \n",
       "count  719935.000000    719935.000000  719935.000000  719935.000000  \n",
       "mean      955.432587         3.583660     557.157886       0.487390  \n",
       "std      1069.792064         2.579846     728.765955       0.298442  \n",
       "min         0.000000         0.000000       0.000000       0.000000  \n",
       "25%       100.400000         2.000000       0.000000       0.229200  \n",
       "50%       502.800000         3.000000       0.000000       0.484000  \n",
       "75%      1587.000000         5.000000    1492.000000       0.747600  \n",
       "max     25780.000000       153.000000    1922.000000       1.000000  \n",
       "\n",
       "[8 rows x 23 columns]"
      ]
     },
     "execution_count": 4,
     "metadata": {},
     "output_type": "execute_result"
    }
   ],
   "source": [
    "solos_df.describe()"
   ]
  },
  {
   "cell_type": "code",
   "execution_count": 5,
   "metadata": {},
   "outputs": [
    {
     "name": "stdout",
     "output_type": "stream",
     "text": [
      "<class 'pandas.core.frame.DataFrame'>\n",
      "Int64Index: 719935 entries, 0 to 719934\n",
      "Data columns (total 24 columns):\n",
      "Id                 719935 non-null object\n",
      "assists            719935 non-null int64\n",
      "boosts             719935 non-null int64\n",
      "damageDealt        719935 non-null float64\n",
      "headshotKills      719935 non-null int64\n",
      "heals              719935 non-null int64\n",
      "killPlace          719935 non-null int64\n",
      "killPoints         719935 non-null int64\n",
      "kills              719935 non-null int64\n",
      "killStreaks        719935 non-null int64\n",
      "longestKill        719935 non-null float64\n",
      "matchDuration      719935 non-null int64\n",
      "maxPlace           719935 non-null int64\n",
      "numGroups          719935 non-null int64\n",
      "rankPoints         719935 non-null int64\n",
      "rideDistance       719935 non-null float64\n",
      "roadKills          719935 non-null int64\n",
      "swimDistance       719935 non-null float64\n",
      "teamKills          719935 non-null int64\n",
      "vehicleDestroys    719935 non-null int64\n",
      "walkDistance       719935 non-null float64\n",
      "weaponsAcquired    719935 non-null int64\n",
      "winPoints          719935 non-null int64\n",
      "winPlacePerc       719935 non-null float64\n",
      "dtypes: float64(6), int64(17), object(1)\n",
      "memory usage: 137.3+ MB\n"
     ]
    }
   ],
   "source": [
    "solos_df.info()"
   ]
  },
  {
   "cell_type": "code",
   "execution_count": 6,
   "metadata": {},
   "outputs": [],
   "source": [
    "from sklearn.model_selection import train_test_split\n",
    "from sklearn.linear_model import LinearRegression, Lasso, Ridge"
   ]
  },
  {
   "cell_type": "code",
   "execution_count": 7,
   "metadata": {},
   "outputs": [],
   "source": [
    "X = solos_df.drop(['Id', 'winPlacePerc'], axis=1)\n",
    "y = solos_df['winPlacePerc']"
   ]
  },
  {
   "cell_type": "code",
   "execution_count": 8,
   "metadata": {},
   "outputs": [],
   "source": [
    "X_train, X_test, y_train, y_test = train_test_split(X, y, random_state=11)"
   ]
  },
  {
   "cell_type": "code",
   "execution_count": 9,
   "metadata": {},
   "outputs": [],
   "source": [
    "linreg = LinearRegression()"
   ]
  },
  {
   "cell_type": "code",
   "execution_count": 10,
   "metadata": {},
   "outputs": [
    {
     "data": {
      "text/plain": [
       "LinearRegression(copy_X=True, fit_intercept=True, n_jobs=None, normalize=False)"
      ]
     },
     "execution_count": 10,
     "metadata": {},
     "output_type": "execute_result"
    }
   ],
   "source": [
    "linreg.fit(X_train, y_train)"
   ]
  },
  {
   "cell_type": "code",
   "execution_count": 11,
   "metadata": {},
   "outputs": [
    {
     "data": {
      "text/html": [
       "<div>\n",
       "<style scoped>\n",
       "    .dataframe tbody tr th:only-of-type {\n",
       "        vertical-align: middle;\n",
       "    }\n",
       "\n",
       "    .dataframe tbody tr th {\n",
       "        vertical-align: top;\n",
       "    }\n",
       "\n",
       "    .dataframe thead th {\n",
       "        text-align: right;\n",
       "    }\n",
       "</style>\n",
       "<table border=\"1\" class=\"dataframe\">\n",
       "  <thead>\n",
       "    <tr style=\"text-align: right;\">\n",
       "      <th></th>\n",
       "      <th>Coefficient</th>\n",
       "    </tr>\n",
       "  </thead>\n",
       "  <tbody>\n",
       "    <tr>\n",
       "      <th>assists</th>\n",
       "      <td>0.028018</td>\n",
       "    </tr>\n",
       "    <tr>\n",
       "      <th>boosts</th>\n",
       "      <td>0.011680</td>\n",
       "    </tr>\n",
       "    <tr>\n",
       "      <th>damageDealt</th>\n",
       "      <td>0.000042</td>\n",
       "    </tr>\n",
       "    <tr>\n",
       "      <th>headshotKills</th>\n",
       "      <td>0.008753</td>\n",
       "    </tr>\n",
       "    <tr>\n",
       "      <th>heals</th>\n",
       "      <td>0.000064</td>\n",
       "    </tr>\n",
       "    <tr>\n",
       "      <th>killPlace</th>\n",
       "      <td>-0.008768</td>\n",
       "    </tr>\n",
       "    <tr>\n",
       "      <th>killPoints</th>\n",
       "      <td>-0.000082</td>\n",
       "    </tr>\n",
       "    <tr>\n",
       "      <th>kills</th>\n",
       "      <td>-0.024402</td>\n",
       "    </tr>\n",
       "    <tr>\n",
       "      <th>killStreaks</th>\n",
       "      <td>-0.189508</td>\n",
       "    </tr>\n",
       "    <tr>\n",
       "      <th>longestKill</th>\n",
       "      <td>-0.000093</td>\n",
       "    </tr>\n",
       "    <tr>\n",
       "      <th>matchDuration</th>\n",
       "      <td>-0.000135</td>\n",
       "    </tr>\n",
       "    <tr>\n",
       "      <th>maxPlace</th>\n",
       "      <td>0.001234</td>\n",
       "    </tr>\n",
       "    <tr>\n",
       "      <th>numGroups</th>\n",
       "      <td>0.005772</td>\n",
       "    </tr>\n",
       "    <tr>\n",
       "      <th>rankPoints</th>\n",
       "      <td>0.000088</td>\n",
       "    </tr>\n",
       "    <tr>\n",
       "      <th>rideDistance</th>\n",
       "      <td>0.000016</td>\n",
       "    </tr>\n",
       "    <tr>\n",
       "      <th>roadKills</th>\n",
       "      <td>0.034107</td>\n",
       "    </tr>\n",
       "    <tr>\n",
       "      <th>swimDistance</th>\n",
       "      <td>0.000135</td>\n",
       "    </tr>\n",
       "    <tr>\n",
       "      <th>teamKills</th>\n",
       "      <td>0.000081</td>\n",
       "    </tr>\n",
       "    <tr>\n",
       "      <th>vehicleDestroys</th>\n",
       "      <td>-0.008266</td>\n",
       "    </tr>\n",
       "    <tr>\n",
       "      <th>walkDistance</th>\n",
       "      <td>0.000098</td>\n",
       "    </tr>\n",
       "    <tr>\n",
       "      <th>weaponsAcquired</th>\n",
       "      <td>0.015854</td>\n",
       "    </tr>\n",
       "    <tr>\n",
       "      <th>winPoints</th>\n",
       "      <td>0.000156</td>\n",
       "    </tr>\n",
       "  </tbody>\n",
       "</table>\n",
       "</div>"
      ],
      "text/plain": [
       "                 Coefficient\n",
       "assists             0.028018\n",
       "boosts              0.011680\n",
       "damageDealt         0.000042\n",
       "headshotKills       0.008753\n",
       "heals               0.000064\n",
       "killPlace          -0.008768\n",
       "killPoints         -0.000082\n",
       "kills              -0.024402\n",
       "killStreaks        -0.189508\n",
       "longestKill        -0.000093\n",
       "matchDuration      -0.000135\n",
       "maxPlace            0.001234\n",
       "numGroups           0.005772\n",
       "rankPoints          0.000088\n",
       "rideDistance        0.000016\n",
       "roadKills           0.034107\n",
       "swimDistance        0.000135\n",
       "teamKills           0.000081\n",
       "vehicleDestroys    -0.008266\n",
       "walkDistance        0.000098\n",
       "weaponsAcquired     0.015854\n",
       "winPoints           0.000156"
      ]
     },
     "execution_count": 11,
     "metadata": {},
     "output_type": "execute_result"
    }
   ],
   "source": [
    "coef_df = pd.DataFrame(linreg.coef_, X.columns, columns=['Coefficient'])\n",
    "coef_df"
   ]
  },
  {
   "cell_type": "code",
   "execution_count": 12,
   "metadata": {},
   "outputs": [
    {
     "data": {
      "image/png": "[encoded data removed]",
      "text/plain": [
       "<Figure size 432x288 with 1 Axes>"
      ]
     },
     "metadata": {
      "needs_background": "light"
     },
     "output_type": "display_data"
    }
   ],
   "source": [
    "plt.plot(range(len(coef_df.index)), coef_df['Coefficient'])\n",
    "plt.xticks(range(len(coef_df.index)), coef_df.index, rotation=90)\n",
    "plt.ylim(-.2, .05)\n",
    "plt.show()"
   ]
  },
  {
   "cell_type": "code",
   "execution_count": 13,
   "metadata": {},
   "outputs": [],
   "source": [
    "predict = linreg.predict(X_test)"
   ]
  },
  {
   "cell_type": "code",
   "execution_count": 14,
   "metadata": {},
   "outputs": [
    {
     "name": "stdout",
     "output_type": "stream",
     "text": [
      "Accuracy on training data: 0.8830392823545725\n",
      "Accuracy on test data:     0.8802941415447147\n"
     ]
    }
   ],
   "source": [
    "training_accuracy = linreg.score(X_train, y_train)\n",
    "test_accuracy = linreg.score(X_test, y_test)\n",
    "\n",
    "print(f\"Accuracy on training data: {training_accuracy}\")\n",
    "print(f\"Accuracy on test data:     {test_accuracy}\")"
   ]
  },
  {
   "cell_type": "markdown",
   "metadata": {},
   "source": [
    "Pretty good accuracy on both training and testing data. No signs of overfitting which means it will generalize to new data well."
   ]
  },
  {
   "cell_type": "code",
   "execution_count": 15,
   "metadata": {},
   "outputs": [],
   "source": [
    "linreg_compare = y_test.to_frame()"
   ]
  },
  {
   "cell_type": "code",
   "execution_count": 16,
   "metadata": {},
   "outputs": [
    {
     "data": {
      "text/html": [
       "<div>\n",
       "<style scoped>\n",
       "    .dataframe tbody tr th:only-of-type {\n",
       "        vertical-align: middle;\n",
       "    }\n",
       "\n",
       "    .dataframe tbody tr th {\n",
       "        vertical-align: top;\n",
       "    }\n",
       "\n",
       "    .dataframe thead th {\n",
       "        text-align: right;\n",
       "    }\n",
       "</style>\n",
       "<table border=\"1\" class=\"dataframe\">\n",
       "  <thead>\n",
       "    <tr style=\"text-align: right;\">\n",
       "      <th></th>\n",
       "      <th>winPlacePerc</th>\n",
       "    </tr>\n",
       "  </thead>\n",
       "  <tbody>\n",
       "    <tr>\n",
       "      <th>0</th>\n",
       "      <td>0.7020</td>\n",
       "    </tr>\n",
       "    <tr>\n",
       "      <th>1</th>\n",
       "      <td>0.1458</td>\n",
       "    </tr>\n",
       "    <tr>\n",
       "      <th>2</th>\n",
       "      <td>0.7350</td>\n",
       "    </tr>\n",
       "    <tr>\n",
       "      <th>3</th>\n",
       "      <td>0.4375</td>\n",
       "    </tr>\n",
       "    <tr>\n",
       "      <th>4</th>\n",
       "      <td>0.9680</td>\n",
       "    </tr>\n",
       "  </tbody>\n",
       "</table>\n",
       "</div>"
      ],
      "text/plain": [
       "   winPlacePerc\n",
       "0        0.7020\n",
       "1        0.1458\n",
       "2        0.7350\n",
       "3        0.4375\n",
       "4        0.9680"
      ]
     },
     "execution_count": 16,
     "metadata": {},
     "output_type": "execute_result"
    }
   ],
   "source": [
    "linreg_compare = linreg_compare.reset_index().drop('index', axis=1)\n",
    "linreg_compare.head()"
   ]
  },
  {
   "cell_type": "code",
   "execution_count": 17,
   "metadata": {},
   "outputs": [
    {
     "data": {
      "text/html": [
       "<div>\n",
       "<style scoped>\n",
       "    .dataframe tbody tr th:only-of-type {\n",
       "        vertical-align: middle;\n",
       "    }\n",
       "\n",
       "    .dataframe tbody tr th {\n",
       "        vertical-align: top;\n",
       "    }\n",
       "\n",
       "    .dataframe thead th {\n",
       "        text-align: right;\n",
       "    }\n",
       "</style>\n",
       "<table border=\"1\" class=\"dataframe\">\n",
       "  <thead>\n",
       "    <tr style=\"text-align: right;\">\n",
       "      <th></th>\n",
       "      <th>winPlacePerc</th>\n",
       "      <th>predict</th>\n",
       "    </tr>\n",
       "  </thead>\n",
       "  <tbody>\n",
       "    <tr>\n",
       "      <th>0</th>\n",
       "      <td>0.7020</td>\n",
       "      <td>0.730638</td>\n",
       "    </tr>\n",
       "    <tr>\n",
       "      <th>1</th>\n",
       "      <td>0.1458</td>\n",
       "      <td>0.116776</td>\n",
       "    </tr>\n",
       "    <tr>\n",
       "      <th>2</th>\n",
       "      <td>0.7350</td>\n",
       "      <td>0.759328</td>\n",
       "    </tr>\n",
       "    <tr>\n",
       "      <th>3</th>\n",
       "      <td>0.4375</td>\n",
       "      <td>0.361094</td>\n",
       "    </tr>\n",
       "    <tr>\n",
       "      <th>4</th>\n",
       "      <td>0.9680</td>\n",
       "      <td>0.955137</td>\n",
       "    </tr>\n",
       "    <tr>\n",
       "      <th>5</th>\n",
       "      <td>0.3684</td>\n",
       "      <td>0.304490</td>\n",
       "    </tr>\n",
       "    <tr>\n",
       "      <th>6</th>\n",
       "      <td>0.9375</td>\n",
       "      <td>0.786005</td>\n",
       "    </tr>\n",
       "    <tr>\n",
       "      <th>7</th>\n",
       "      <td>0.6533</td>\n",
       "      <td>0.582709</td>\n",
       "    </tr>\n",
       "    <tr>\n",
       "      <th>8</th>\n",
       "      <td>0.6090</td>\n",
       "      <td>0.560711</td>\n",
       "    </tr>\n",
       "    <tr>\n",
       "      <th>9</th>\n",
       "      <td>0.2268</td>\n",
       "      <td>0.185694</td>\n",
       "    </tr>\n",
       "  </tbody>\n",
       "</table>\n",
       "</div>"
      ],
      "text/plain": [
       "   winPlacePerc   predict\n",
       "0        0.7020  0.730638\n",
       "1        0.1458  0.116776\n",
       "2        0.7350  0.759328\n",
       "3        0.4375  0.361094\n",
       "4        0.9680  0.955137\n",
       "5        0.3684  0.304490\n",
       "6        0.9375  0.786005\n",
       "7        0.6533  0.582709\n",
       "8        0.6090  0.560711\n",
       "9        0.2268  0.185694"
      ]
     },
     "execution_count": 17,
     "metadata": {},
     "output_type": "execute_result"
    }
   ],
   "source": [
    "predict = pd.Series(predict)\n",
    "linreg_compare['predict'] = predict\n",
    "linreg_compare.head(10)"
   ]
  },
  {
   "cell_type": "code",
   "execution_count": 18,
   "metadata": {},
   "outputs": [
    {
     "data": {
      "text/plain": [
       "<seaborn.axisgrid.FacetGrid at 0x2ee8b2c0518>"
      ]
     },
     "execution_count": 18,
     "metadata": {},
     "output_type": "execute_result"
    },
    {
     "data": {
      "image/png": "[encoded data removed]",
      "text/plain": [
       "<Figure size 360x360 with 1 Axes>"
      ]
     },
     "metadata": {
      "needs_background": "light"
     },
     "output_type": "display_data"
    }
   ],
   "source": [
    "sns.lmplot('winPlacePerc', 'predict', data=linreg_compare, line_kws={'color': 'red'}, scatter_kws={'s': 10})"
   ]
  },
  {
   "cell_type": "markdown",
   "metadata": {},
   "source": [
    "Good linear trend between the prediction and y_test. However it seems that the model has decided it is okay to go above a 1 win place percentage and below a 0 win place percentage. Niether of which make any sense. Let's take a look at just the predictions between 0 and 1"
   ]
  },
  {
   "cell_type": "code",
   "execution_count": 19,
   "metadata": {},
   "outputs": [
    {
     "data": {
      "text/plain": [
       "(0, 1)"
      ]
     },
     "execution_count": 19,
     "metadata": {},
     "output_type": "execute_result"
    },
    {
     "data": {
      "image/png": "[encoded data removed]",
      "text/plain": [
       "<Figure size 360x360 with 1 Axes>"
      ]
     },
     "metadata": {
      "needs_background": "light"
     },
     "output_type": "display_data"
    }
   ],
   "source": [
    "sns.lmplot('winPlacePerc', 'predict', data=linreg_compare, line_kws={'color': 'red'}, scatter_kws={'s': 10})\n",
    "plt.ylim((0,1))"
   ]
  },
  {
   "cell_type": "code",
   "execution_count": 20,
   "metadata": {},
   "outputs": [],
   "source": [
    "from sklearn.model_selection import cross_val_score"
   ]
  },
  {
   "cell_type": "code",
   "execution_count": 21,
   "metadata": {},
   "outputs": [
    {
     "name": "stdout",
     "output_type": "stream",
     "text": [
      "Wall time: 2.69 s\n"
     ]
    }
   ],
   "source": [
    "%%time\n",
    "cv_results_5 = cross_val_score(linreg, X, y, cv=5)"
   ]
  },
  {
   "cell_type": "code",
   "execution_count": 22,
   "metadata": {},
   "outputs": [
    {
     "name": "stdout",
     "output_type": "stream",
     "text": [
      "Wall time: 5.84 s\n"
     ]
    }
   ],
   "source": [
    "%%time\n",
    "cv_results_10 = cross_val_score(linreg, X, y, cv=10)"
   ]
  },
  {
   "cell_type": "code",
   "execution_count": 23,
   "metadata": {},
   "outputs": [
    {
     "name": "stdout",
     "output_type": "stream",
     "text": [
      "Wall time: 15.3 s\n"
     ]
    }
   ],
   "source": [
    "%%time\n",
    "cv_results_25 = cross_val_score(linreg, X, y, cv=25)"
   ]
  },
  {
   "cell_type": "code",
   "execution_count": 24,
   "metadata": {},
   "outputs": [
    {
     "name": "stdout",
     "output_type": "stream",
     "text": [
      "[0.88272631 0.88174437 0.88167085 0.88020261 0.88486074]\n",
      "[0.88305813 0.88240337 0.88129044 0.882195   0.88145301 0.88194639\n",
      " 0.87624585 0.88441259 0.88583275 0.88391994]\n",
      "[0.87990025 0.88578488 0.88142734 0.88199048 0.88447715 0.88054027\n",
      " 0.8815555  0.87919097 0.88396057 0.88332342 0.88142937 0.88250509\n",
      " 0.88161366 0.87862496 0.88449936 0.87239638 0.87907369 0.88375534\n",
      " 0.88368469 0.88361718 0.88287002 0.88658621 0.8865031  0.88537551\n",
      " 0.88303629]\n"
     ]
    }
   ],
   "source": [
    "print(cv_results_5)\n",
    "print(cv_results_10)\n",
    "print(cv_results_25)"
   ]
  },
  {
   "cell_type": "code",
   "execution_count": 25,
   "metadata": {},
   "outputs": [
    {
     "name": "stdout",
     "output_type": "stream",
     "text": [
      "Average 5-fold cross validation score:  0.8822409755705403\n",
      "Average 10-fold cross validation score: 0.8822757479514912\n",
      "Average 25-fold cross validation score: 0.8823088663930033\n"
     ]
    }
   ],
   "source": [
    "print(f'Average 5-fold cross validation score:  {np.mean(cv_results_5)}')\n",
    "print(f'Average 10-fold cross validation score: {np.mean(cv_results_10)}')\n",
    "print(f'Average 25-fold cross validation score: {np.mean(cv_results_25)}')"
   ]
  },
  {
   "cell_type": "markdown",
   "metadata": {},
   "source": [
    "Before we get into Lasso and Ridge regression, we need to figure out what value of alpha will be best for both models"
   ]
  },
  {
   "cell_type": "code",
   "execution_count": 26,
   "metadata": {},
   "outputs": [],
   "source": [
    "models = [Lasso, Ridge]\n",
    "alphas = [0.01, 0.1, .5, .75, 1, 10, 50, 100, 200, 300, 400, 500, 600, 700, 800, 900, 1000]\n",
    "mse_frame = pd.DataFrame(index=alphas)\n",
    "\n",
    "for model in models:\n",
    "    mse_values = []\n",
    "    for alpha in alphas:\n",
    "        model_base = model(alpha=alpha)\n",
    "        model_fit = model_base.fit(X_train, y_train)\n",
    "        model_predict = model_base.predict(X_test)\n",
    "        mse = mean_squared_error(y_test, model_predict)\n",
    "        mse_values.append(mse)\n",
    "    if model == Lasso:\n",
    "        mse_frame['Lasso_mse'] = mse_values\n",
    "    if model == Ridge:\n",
    "        mse_frame['Ridge_mse'] = mse_values"
   ]
  },
  {
   "cell_type": "code",
   "execution_count": 27,
   "metadata": {},
   "outputs": [
    {
     "data": {
      "text/html": [
       "<div>\n",
       "<style scoped>\n",
       "    .dataframe tbody tr th:only-of-type {\n",
       "        vertical-align: middle;\n",
       "    }\n",
       "\n",
       "    .dataframe tbody tr th {\n",
       "        vertical-align: top;\n",
       "    }\n",
       "\n",
       "    .dataframe thead th {\n",
       "        text-align: right;\n",
       "    }\n",
       "</style>\n",
       "<table border=\"1\" class=\"dataframe\">\n",
       "  <thead>\n",
       "    <tr style=\"text-align: right;\">\n",
       "      <th></th>\n",
       "      <th>Lasso_mse</th>\n",
       "      <th>Ridge_mse</th>\n",
       "    </tr>\n",
       "  </thead>\n",
       "  <tbody>\n",
       "    <tr>\n",
       "      <th>0.01</th>\n",
       "      <td>0.012063</td>\n",
       "      <td>0.010675</td>\n",
       "    </tr>\n",
       "    <tr>\n",
       "      <th>0.10</th>\n",
       "      <td>0.015687</td>\n",
       "      <td>0.010675</td>\n",
       "    </tr>\n",
       "    <tr>\n",
       "      <th>0.50</th>\n",
       "      <td>0.018686</td>\n",
       "      <td>0.010675</td>\n",
       "    </tr>\n",
       "    <tr>\n",
       "      <th>0.75</th>\n",
       "      <td>0.019358</td>\n",
       "      <td>0.010675</td>\n",
       "    </tr>\n",
       "    <tr>\n",
       "      <th>1.00</th>\n",
       "      <td>0.020558</td>\n",
       "      <td>0.010675</td>\n",
       "    </tr>\n",
       "    <tr>\n",
       "      <th>10.00</th>\n",
       "      <td>0.028720</td>\n",
       "      <td>0.010675</td>\n",
       "    </tr>\n",
       "    <tr>\n",
       "      <th>50.00</th>\n",
       "      <td>0.032327</td>\n",
       "      <td>0.010675</td>\n",
       "    </tr>\n",
       "    <tr>\n",
       "      <th>100.00</th>\n",
       "      <td>0.039226</td>\n",
       "      <td>0.010675</td>\n",
       "    </tr>\n",
       "    <tr>\n",
       "      <th>200.00</th>\n",
       "      <td>0.065419</td>\n",
       "      <td>0.010674</td>\n",
       "    </tr>\n",
       "    <tr>\n",
       "      <th>300.00</th>\n",
       "      <td>0.089179</td>\n",
       "      <td>0.010674</td>\n",
       "    </tr>\n",
       "    <tr>\n",
       "      <th>400.00</th>\n",
       "      <td>0.089179</td>\n",
       "      <td>0.010673</td>\n",
       "    </tr>\n",
       "    <tr>\n",
       "      <th>500.00</th>\n",
       "      <td>0.089179</td>\n",
       "      <td>0.010673</td>\n",
       "    </tr>\n",
       "    <tr>\n",
       "      <th>600.00</th>\n",
       "      <td>0.089179</td>\n",
       "      <td>0.010672</td>\n",
       "    </tr>\n",
       "    <tr>\n",
       "      <th>700.00</th>\n",
       "      <td>0.089179</td>\n",
       "      <td>0.010672</td>\n",
       "    </tr>\n",
       "    <tr>\n",
       "      <th>800.00</th>\n",
       "      <td>0.089179</td>\n",
       "      <td>0.010671</td>\n",
       "    </tr>\n",
       "    <tr>\n",
       "      <th>900.00</th>\n",
       "      <td>0.089179</td>\n",
       "      <td>0.010671</td>\n",
       "    </tr>\n",
       "    <tr>\n",
       "      <th>1000.00</th>\n",
       "      <td>0.089179</td>\n",
       "      <td>0.010671</td>\n",
       "    </tr>\n",
       "  </tbody>\n",
       "</table>\n",
       "</div>"
      ],
      "text/plain": [
       "         Lasso_mse  Ridge_mse\n",
       "0.01      0.012063   0.010675\n",
       "0.10      0.015687   0.010675\n",
       "0.50      0.018686   0.010675\n",
       "0.75      0.019358   0.010675\n",
       "1.00      0.020558   0.010675\n",
       "10.00     0.028720   0.010675\n",
       "50.00     0.032327   0.010675\n",
       "100.00    0.039226   0.010675\n",
       "200.00    0.065419   0.010674\n",
       "300.00    0.089179   0.010674\n",
       "400.00    0.089179   0.010673\n",
       "500.00    0.089179   0.010673\n",
       "600.00    0.089179   0.010672\n",
       "700.00    0.089179   0.010672\n",
       "800.00    0.089179   0.010671\n",
       "900.00    0.089179   0.010671\n",
       "1000.00   0.089179   0.010671"
      ]
     },
     "execution_count": 27,
     "metadata": {},
     "output_type": "execute_result"
    }
   ],
   "source": [
    "mse_frame"
   ]
  },
  {
   "cell_type": "code",
   "execution_count": 28,
   "metadata": {},
   "outputs": [
    {
     "name": "stdout",
     "output_type": "stream",
     "text": [
      "0.01 1000.0\n"
     ]
    }
   ],
   "source": [
    "best_lasso_alpha = mse_frame['Lasso_mse'].idxmin()\n",
    "best_ridge_alpha = mse_frame['Ridge_mse'].idxmin()\n",
    "print(best_lasso_alpha, best_ridge_alpha)"
   ]
  },
  {
   "cell_type": "markdown",
   "metadata": {},
   "source": [
    "With alpha values picked out, it's time to test how Lasso and Ridge regression compare to the Linear regression model."
   ]
  },
  {
   "cell_type": "code",
   "execution_count": 29,
   "metadata": {},
   "outputs": [],
   "source": [
    "lasso = Lasso(alpha=best_lasso_alpha)\n",
    "lasso_fit = lasso.fit(X_train, y_train)"
   ]
  },
  {
   "cell_type": "code",
   "execution_count": 30,
   "metadata": {},
   "outputs": [
    {
     "data": {
      "text/html": [
       "<div>\n",
       "<style scoped>\n",
       "    .dataframe tbody tr th:only-of-type {\n",
       "        vertical-align: middle;\n",
       "    }\n",
       "\n",
       "    .dataframe tbody tr th {\n",
       "        vertical-align: top;\n",
       "    }\n",
       "\n",
       "    .dataframe thead th {\n",
       "        text-align: right;\n",
       "    }\n",
       "</style>\n",
       "<table border=\"1\" class=\"dataframe\">\n",
       "  <thead>\n",
       "    <tr style=\"text-align: right;\">\n",
       "      <th></th>\n",
       "      <th>Coefficient</th>\n",
       "    </tr>\n",
       "  </thead>\n",
       "  <tbody>\n",
       "    <tr>\n",
       "      <th>assists</th>\n",
       "      <td>0.000000</td>\n",
       "    </tr>\n",
       "    <tr>\n",
       "      <th>boosts</th>\n",
       "      <td>0.005917</td>\n",
       "    </tr>\n",
       "    <tr>\n",
       "      <th>damageDealt</th>\n",
       "      <td>-0.000163</td>\n",
       "    </tr>\n",
       "    <tr>\n",
       "      <th>headshotKills</th>\n",
       "      <td>-0.000000</td>\n",
       "    </tr>\n",
       "    <tr>\n",
       "      <th>heals</th>\n",
       "      <td>0.000000</td>\n",
       "    </tr>\n",
       "    <tr>\n",
       "      <th>killPlace</th>\n",
       "      <td>-0.006320</td>\n",
       "    </tr>\n",
       "    <tr>\n",
       "      <th>killPoints</th>\n",
       "      <td>-0.000088</td>\n",
       "    </tr>\n",
       "    <tr>\n",
       "      <th>kills</th>\n",
       "      <td>-0.000000</td>\n",
       "    </tr>\n",
       "    <tr>\n",
       "      <th>killStreaks</th>\n",
       "      <td>-0.065945</td>\n",
       "    </tr>\n",
       "    <tr>\n",
       "      <th>longestKill</th>\n",
       "      <td>-0.000195</td>\n",
       "    </tr>\n",
       "    <tr>\n",
       "      <th>matchDuration</th>\n",
       "      <td>-0.000145</td>\n",
       "    </tr>\n",
       "    <tr>\n",
       "      <th>maxPlace</th>\n",
       "      <td>0.000326</td>\n",
       "    </tr>\n",
       "    <tr>\n",
       "      <th>numGroups</th>\n",
       "      <td>0.004809</td>\n",
       "    </tr>\n",
       "    <tr>\n",
       "      <th>rankPoints</th>\n",
       "      <td>0.000115</td>\n",
       "    </tr>\n",
       "    <tr>\n",
       "      <th>rideDistance</th>\n",
       "      <td>0.000021</td>\n",
       "    </tr>\n",
       "    <tr>\n",
       "      <th>roadKills</th>\n",
       "      <td>-0.000000</td>\n",
       "    </tr>\n",
       "    <tr>\n",
       "      <th>swimDistance</th>\n",
       "      <td>0.000139</td>\n",
       "    </tr>\n",
       "    <tr>\n",
       "      <th>teamKills</th>\n",
       "      <td>0.000000</td>\n",
       "    </tr>\n",
       "    <tr>\n",
       "      <th>vehicleDestroys</th>\n",
       "      <td>-0.000000</td>\n",
       "    </tr>\n",
       "    <tr>\n",
       "      <th>walkDistance</th>\n",
       "      <td>0.000122</td>\n",
       "    </tr>\n",
       "    <tr>\n",
       "      <th>weaponsAcquired</th>\n",
       "      <td>0.016130</td>\n",
       "    </tr>\n",
       "    <tr>\n",
       "      <th>winPoints</th>\n",
       "      <td>0.000188</td>\n",
       "    </tr>\n",
       "  </tbody>\n",
       "</table>\n",
       "</div>"
      ],
      "text/plain": [
       "                 Coefficient\n",
       "assists             0.000000\n",
       "boosts              0.005917\n",
       "damageDealt        -0.000163\n",
       "headshotKills      -0.000000\n",
       "heals               0.000000\n",
       "killPlace          -0.006320\n",
       "killPoints         -0.000088\n",
       "kills              -0.000000\n",
       "killStreaks        -0.065945\n",
       "longestKill        -0.000195\n",
       "matchDuration      -0.000145\n",
       "maxPlace            0.000326\n",
       "numGroups           0.004809\n",
       "rankPoints          0.000115\n",
       "rideDistance        0.000021\n",
       "roadKills          -0.000000\n",
       "swimDistance        0.000139\n",
       "teamKills           0.000000\n",
       "vehicleDestroys    -0.000000\n",
       "walkDistance        0.000122\n",
       "weaponsAcquired     0.016130\n",
       "winPoints           0.000188"
      ]
     },
     "execution_count": 30,
     "metadata": {},
     "output_type": "execute_result"
    }
   ],
   "source": [
    "lasso_coef = lasso_fit.coef_\n",
    "lasso_coeff_df = pd.DataFrame(lasso_coef, X.columns, columns=['Coefficient'])\n",
    "lasso_coeff_df"
   ]
  },
  {
   "cell_type": "code",
   "execution_count": 31,
   "metadata": {},
   "outputs": [
    {
     "data": {
      "image/png": "[encoded data removed]",
      "text/plain": [
       "<Figure size 432x288 with 1 Axes>"
      ]
     },
     "metadata": {
      "needs_background": "light"
     },
     "output_type": "display_data"
    }
   ],
   "source": [
    "names = solos_df.drop(['Id', 'winPlacePerc'], axis=1).columns\n",
    "plt.plot(range(len(names)), lasso_coef)\n",
    "plt.xticks(range(len(names)), names, rotation=90)\n",
    "plt.ylim(-.07, .02)\n",
    "plt.show()"
   ]
  },
  {
   "cell_type": "code",
   "execution_count": 32,
   "metadata": {},
   "outputs": [],
   "source": [
    "lasso_pred = lasso.predict(X_test)\n",
    "lasso_pred = pd.Series(lasso_pred)"
   ]
  },
  {
   "cell_type": "code",
   "execution_count": 33,
   "metadata": {},
   "outputs": [
    {
     "data": {
      "text/html": [
       "<div>\n",
       "<style scoped>\n",
       "    .dataframe tbody tr th:only-of-type {\n",
       "        vertical-align: middle;\n",
       "    }\n",
       "\n",
       "    .dataframe tbody tr th {\n",
       "        vertical-align: top;\n",
       "    }\n",
       "\n",
       "    .dataframe thead th {\n",
       "        text-align: right;\n",
       "    }\n",
       "</style>\n",
       "<table border=\"1\" class=\"dataframe\">\n",
       "  <thead>\n",
       "    <tr style=\"text-align: right;\">\n",
       "      <th></th>\n",
       "      <th>winPlacePerc</th>\n",
       "      <th>Lasso Predict</th>\n",
       "    </tr>\n",
       "  </thead>\n",
       "  <tbody>\n",
       "    <tr>\n",
       "      <th>0</th>\n",
       "      <td>0.7020</td>\n",
       "      <td>0.714523</td>\n",
       "    </tr>\n",
       "    <tr>\n",
       "      <th>1</th>\n",
       "      <td>0.1458</td>\n",
       "      <td>0.116219</td>\n",
       "    </tr>\n",
       "    <tr>\n",
       "      <th>2</th>\n",
       "      <td>0.7350</td>\n",
       "      <td>0.721838</td>\n",
       "    </tr>\n",
       "    <tr>\n",
       "      <th>3</th>\n",
       "      <td>0.4375</td>\n",
       "      <td>0.323879</td>\n",
       "    </tr>\n",
       "    <tr>\n",
       "      <th>4</th>\n",
       "      <td>0.9680</td>\n",
       "      <td>0.942539</td>\n",
       "    </tr>\n",
       "  </tbody>\n",
       "</table>\n",
       "</div>"
      ],
      "text/plain": [
       "   winPlacePerc  Lasso Predict\n",
       "0        0.7020       0.714523\n",
       "1        0.1458       0.116219\n",
       "2        0.7350       0.721838\n",
       "3        0.4375       0.323879\n",
       "4        0.9680       0.942539"
      ]
     },
     "execution_count": 33,
     "metadata": {},
     "output_type": "execute_result"
    }
   ],
   "source": [
    "lasso_compare = y_test.to_frame()\n",
    "lasso_compare = lasso_compare.reset_index().drop('index', axis=1)\n",
    "lasso_compare['Lasso Predict'] = lasso_pred\n",
    "lasso_compare.head()"
   ]
  },
  {
   "cell_type": "code",
   "execution_count": 34,
   "metadata": {
    "scrolled": true
   },
   "outputs": [
    {
     "data": {
      "text/plain": [
       "(3.5168042032271245, -0.7341444349771004)"
      ]
     },
     "execution_count": 34,
     "metadata": {},
     "output_type": "execute_result"
    }
   ],
   "source": [
    "lasso_compare['Lasso Predict'].max(), lasso_compare['Lasso Predict'].min()"
   ]
  },
  {
   "cell_type": "markdown",
   "metadata": {},
   "source": [
    "Still having problems with numbers going over 1 and below 0 for predicting winPlacePerc, and it's gotten worse with the Lasso regression."
   ]
  },
  {
   "cell_type": "code",
   "execution_count": 35,
   "metadata": {},
   "outputs": [
    {
     "name": "stdout",
     "output_type": "stream",
     "text": [
      "Accuracy on training data: 0.8653146183082241\n",
      "Accuracy on test data:     0.8647296106525554\n"
     ]
    }
   ],
   "source": [
    "training_accuracy = lasso.score(X_train, y_train)\n",
    "test_accuracy = lasso.score(X_test, y_test)\n",
    "\n",
    "print(f\"Accuracy on training data: {training_accuracy}\")\n",
    "print(f\"Accuracy on test data:     {test_accuracy}\")"
   ]
  },
  {
   "cell_type": "markdown",
   "metadata": {},
   "source": [
    "Lasso regression is actually doing worse than the linear regression model, at only 82% accuracy compared to the 88% linear regression gave us."
   ]
  },
  {
   "cell_type": "markdown",
   "metadata": {},
   "source": [
    "Right away, just by testing the accuracy of these models, we can see that the Linear Regression model is doing better. However, that is not the only way to tell how well the model is doing. Mean squared error and root mean squared error are two other ________ to give us an idea on how accurate our model is. Let's take a look at the MSE and RMSE of the linear regression model and lasso model"
   ]
  },
  {
   "cell_type": "code",
   "execution_count": 36,
   "metadata": {},
   "outputs": [],
   "source": [
    "linreg_mse = mean_squared_error(y_test, predict)\n",
    "linreg_rmse = linreg_mse ** (1/2)\n",
    "lasso_mse = mean_squared_error(y_test, lasso_pred)\n",
    "lasso_rmse = lasso_mse ** (1/2)"
   ]
  },
  {
   "cell_type": "code",
   "execution_count": 37,
   "metadata": {},
   "outputs": [
    {
     "name": "stdout",
     "output_type": "stream",
     "text": [
      "Linear Regression MSE:  0.010675189158929364\n",
      "Linear Regression RMSE: 0.10332080699902302\n",
      "\n",
      "\n",
      "Lasso Regression MSE:   0.012063210710989532\n",
      "Lasso Regression RMSE:  0.10983264865689771\n"
     ]
    }
   ],
   "source": [
    "print(f'Linear Regression MSE:  {linreg_mse}')\n",
    "print(f'Linear Regression RMSE: {linreg_rmse}')\n",
    "print('\\n')\n",
    "print(f'Lasso Regression MSE:   {lasso_mse}')\n",
    "print(f'Lasso Regression RMSE:  {lasso_rmse}')"
   ]
  },
  {
   "cell_type": "markdown",
   "metadata": {},
   "source": [
    "Overall, it seems that the base linear regression model is a better fit for the data. Lower MSE and RMSE scores are better, and the linear regression model gave us a lower number for both metrics. Now what about Ridge regression? Will that do any better than Lasso?"
   ]
  },
  {
   "cell_type": "code",
   "execution_count": 38,
   "metadata": {},
   "outputs": [],
   "source": [
    "ridge = Ridge(alpha=best_ridge_alpha)\n",
    "ridge_fit = ridge.fit(X_train, y_train)"
   ]
  },
  {
   "cell_type": "code",
   "execution_count": 39,
   "metadata": {},
   "outputs": [
    {
     "data": {
      "text/html": [
       "<div>\n",
       "<style scoped>\n",
       "    .dataframe tbody tr th:only-of-type {\n",
       "        vertical-align: middle;\n",
       "    }\n",
       "\n",
       "    .dataframe tbody tr th {\n",
       "        vertical-align: top;\n",
       "    }\n",
       "\n",
       "    .dataframe thead th {\n",
       "        text-align: right;\n",
       "    }\n",
       "</style>\n",
       "<table border=\"1\" class=\"dataframe\">\n",
       "  <thead>\n",
       "    <tr style=\"text-align: right;\">\n",
       "      <th></th>\n",
       "      <th>Coefficient</th>\n",
       "    </tr>\n",
       "  </thead>\n",
       "  <tbody>\n",
       "    <tr>\n",
       "      <th>assists</th>\n",
       "      <td>0.026967</td>\n",
       "    </tr>\n",
       "    <tr>\n",
       "      <th>boosts</th>\n",
       "      <td>0.011732</td>\n",
       "    </tr>\n",
       "    <tr>\n",
       "      <th>damageDealt</th>\n",
       "      <td>0.000043</td>\n",
       "    </tr>\n",
       "    <tr>\n",
       "      <th>headshotKills</th>\n",
       "      <td>0.008590</td>\n",
       "    </tr>\n",
       "    <tr>\n",
       "      <th>heals</th>\n",
       "      <td>0.000062</td>\n",
       "    </tr>\n",
       "    <tr>\n",
       "      <th>killPlace</th>\n",
       "      <td>-0.008681</td>\n",
       "    </tr>\n",
       "    <tr>\n",
       "      <th>killPoints</th>\n",
       "      <td>-0.000082</td>\n",
       "    </tr>\n",
       "    <tr>\n",
       "      <th>kills</th>\n",
       "      <td>-0.024742</td>\n",
       "    </tr>\n",
       "    <tr>\n",
       "      <th>killStreaks</th>\n",
       "      <td>-0.184677</td>\n",
       "    </tr>\n",
       "    <tr>\n",
       "      <th>longestKill</th>\n",
       "      <td>-0.000095</td>\n",
       "    </tr>\n",
       "    <tr>\n",
       "      <th>matchDuration</th>\n",
       "      <td>-0.000135</td>\n",
       "    </tr>\n",
       "    <tr>\n",
       "      <th>maxPlace</th>\n",
       "      <td>0.001222</td>\n",
       "    </tr>\n",
       "    <tr>\n",
       "      <th>numGroups</th>\n",
       "      <td>0.005728</td>\n",
       "    </tr>\n",
       "    <tr>\n",
       "      <th>rankPoints</th>\n",
       "      <td>0.000089</td>\n",
       "    </tr>\n",
       "    <tr>\n",
       "      <th>rideDistance</th>\n",
       "      <td>0.000016</td>\n",
       "    </tr>\n",
       "    <tr>\n",
       "      <th>roadKills</th>\n",
       "      <td>0.026115</td>\n",
       "    </tr>\n",
       "    <tr>\n",
       "      <th>swimDistance</th>\n",
       "      <td>0.000136</td>\n",
       "    </tr>\n",
       "    <tr>\n",
       "      <th>teamKills</th>\n",
       "      <td>-0.000001</td>\n",
       "    </tr>\n",
       "    <tr>\n",
       "      <th>vehicleDestroys</th>\n",
       "      <td>-0.005740</td>\n",
       "    </tr>\n",
       "    <tr>\n",
       "      <th>walkDistance</th>\n",
       "      <td>0.000099</td>\n",
       "    </tr>\n",
       "    <tr>\n",
       "      <th>weaponsAcquired</th>\n",
       "      <td>0.015952</td>\n",
       "    </tr>\n",
       "    <tr>\n",
       "      <th>winPoints</th>\n",
       "      <td>0.000157</td>\n",
       "    </tr>\n",
       "  </tbody>\n",
       "</table>\n",
       "</div>"
      ],
      "text/plain": [
       "                 Coefficient\n",
       "assists             0.026967\n",
       "boosts              0.011732\n",
       "damageDealt         0.000043\n",
       "headshotKills       0.008590\n",
       "heals               0.000062\n",
       "killPlace          -0.008681\n",
       "killPoints         -0.000082\n",
       "kills              -0.024742\n",
       "killStreaks        -0.184677\n",
       "longestKill        -0.000095\n",
       "matchDuration      -0.000135\n",
       "maxPlace            0.001222\n",
       "numGroups           0.005728\n",
       "rankPoints          0.000089\n",
       "rideDistance        0.000016\n",
       "roadKills           0.026115\n",
       "swimDistance        0.000136\n",
       "teamKills          -0.000001\n",
       "vehicleDestroys    -0.005740\n",
       "walkDistance        0.000099\n",
       "weaponsAcquired     0.015952\n",
       "winPoints           0.000157"
      ]
     },
     "execution_count": 39,
     "metadata": {},
     "output_type": "execute_result"
    }
   ],
   "source": [
    "ridge_coef = ridge_fit.coef_\n",
    "ridge_coeff_df = pd.DataFrame(ridge_coef, X.columns, columns=['Coefficient'])\n",
    "ridge_coeff_df"
   ]
  },
  {
   "cell_type": "code",
   "execution_count": 40,
   "metadata": {},
   "outputs": [
    {
     "data": {
      "image/png": "[encoded data removed]",
      "text/plain": [
       "<Figure size 432x288 with 1 Axes>"
      ]
     },
     "metadata": {
      "needs_background": "light"
     },
     "output_type": "display_data"
    }
   ],
   "source": [
    "names = solos_df.drop(['Id', 'winPlacePerc'], axis=1).columns\n",
    "plt.plot(range(len(names)), ridge_coef)\n",
    "plt.xticks(range(len(names)), names, rotation=90)\n",
    "plt.ylim(-.2, .1)\n",
    "plt.show()"
   ]
  },
  {
   "cell_type": "code",
   "execution_count": 41,
   "metadata": {},
   "outputs": [
    {
     "data": {
      "text/html": [
       "<div>\n",
       "<style scoped>\n",
       "    .dataframe tbody tr th:only-of-type {\n",
       "        vertical-align: middle;\n",
       "    }\n",
       "\n",
       "    .dataframe tbody tr th {\n",
       "        vertical-align: top;\n",
       "    }\n",
       "\n",
       "    .dataframe thead th {\n",
       "        text-align: right;\n",
       "    }\n",
       "</style>\n",
       "<table border=\"1\" class=\"dataframe\">\n",
       "  <thead>\n",
       "    <tr style=\"text-align: right;\">\n",
       "      <th></th>\n",
       "      <th>winPlacePerc</th>\n",
       "      <th>Ridge Predict</th>\n",
       "    </tr>\n",
       "  </thead>\n",
       "  <tbody>\n",
       "    <tr>\n",
       "      <th>0</th>\n",
       "      <td>0.7020</td>\n",
       "      <td>0.729131</td>\n",
       "    </tr>\n",
       "    <tr>\n",
       "      <th>1</th>\n",
       "      <td>0.1458</td>\n",
       "      <td>0.116805</td>\n",
       "    </tr>\n",
       "    <tr>\n",
       "      <th>2</th>\n",
       "      <td>0.7350</td>\n",
       "      <td>0.757327</td>\n",
       "    </tr>\n",
       "    <tr>\n",
       "      <th>3</th>\n",
       "      <td>0.4375</td>\n",
       "      <td>0.360244</td>\n",
       "    </tr>\n",
       "    <tr>\n",
       "      <th>4</th>\n",
       "      <td>0.9680</td>\n",
       "      <td>0.954917</td>\n",
       "    </tr>\n",
       "  </tbody>\n",
       "</table>\n",
       "</div>"
      ],
      "text/plain": [
       "   winPlacePerc  Ridge Predict\n",
       "0        0.7020       0.729131\n",
       "1        0.1458       0.116805\n",
       "2        0.7350       0.757327\n",
       "3        0.4375       0.360244\n",
       "4        0.9680       0.954917"
      ]
     },
     "execution_count": 41,
     "metadata": {},
     "output_type": "execute_result"
    }
   ],
   "source": [
    "ridge_pred = ridge.predict(X_test)\n",
    "ridge_pred = pd.Series(ridge_pred)\n",
    "ridge_compare = y_test.to_frame()\n",
    "ridge_compare = ridge_compare.reset_index().drop('index', axis=1)\n",
    "ridge_compare['Ridge Predict'] = ridge_pred\n",
    "ridge_compare.head()"
   ]
  },
  {
   "cell_type": "code",
   "execution_count": 42,
   "metadata": {},
   "outputs": [
    {
     "name": "stdout",
     "output_type": "stream",
     "text": [
      "Accuracy on training data: 0.8830156591175778\n",
      "Accuracy on test data:     0.8803437781494184\n"
     ]
    }
   ],
   "source": [
    "training_accuracy = ridge.score(X_train, y_train)\n",
    "test_accuracy = ridge.score(X_test, y_test)\n",
    "\n",
    "print(f\"Accuracy on training data: {training_accuracy}\")\n",
    "print(f\"Accuracy on test data:     {test_accuracy}\")"
   ]
  },
  {
   "cell_type": "code",
   "execution_count": 43,
   "metadata": {},
   "outputs": [],
   "source": [
    "ridge_mse = mean_squared_error(y_test, ridge_pred)\n",
    "ridge_rmse = ridge_mse ** (1/2)"
   ]
  },
  {
   "cell_type": "code",
   "execution_count": 44,
   "metadata": {},
   "outputs": [
    {
     "name": "stdout",
     "output_type": "stream",
     "text": [
      "Linear Regression MSE:  0.010675189158929364\n",
      "Linear Regression RMSE: 0.10332080699902302\n",
      "\n",
      "\n",
      "Lasso Regression MSE:   0.012063210710989532\n",
      "Lasso Regression RMSE:  0.10983264865689771\n",
      "\n",
      "\n",
      "Ridge Regression MSE:   0.010670762640868706\n",
      "Ridge Regression RMSE:  0.1032993835454438\n"
     ]
    }
   ],
   "source": [
    "print(f'Linear Regression MSE:  {linreg_mse}')\n",
    "print(f'Linear Regression RMSE: {linreg_rmse}')\n",
    "print('\\n')\n",
    "print(f'Lasso Regression MSE:   {lasso_mse}')\n",
    "print(f'Lasso Regression RMSE:  {lasso_rmse}')\n",
    "print('\\n')\n",
    "print(f'Ridge Regression MSE:   {ridge_mse}')\n",
    "print(f'Ridge Regression RMSE:  {ridge_rmse}')"
   ]
  },
  {
   "cell_type": "markdown",
   "metadata": {},
   "source": [
    "Seems like a toss up between Linear regression and Ridge regression, both outdoing Lasso regression."
   ]
  },
  {
   "cell_type": "markdown",
   "metadata": {},
   "source": [
    "What about other types of regressors? KNN regression and Random Forest regression exist, so let's look in to those and see how those compare to linear, ridge, and lasso regression."
   ]
  },
  {
   "cell_type": "code",
   "execution_count": null,
   "metadata": {},
   "outputs": [],
   "source": []
  }
 ],
 "metadata": {
  "kernelspec": {
   "display_name": "Python 3",
   "language": "python",
   "name": "python3"
  },
  "language_info": {
   "codemirror_mode": {
    "name": "ipython",
    "version": 3
   },
   "file_extension": ".py",
   "mimetype": "text/x-python",
   "name": "python",
   "nbconvert_exporter": "python",
   "pygments_lexer": "ipython3",
   "version": "3.7.3"
  }
 },
 "nbformat": 4,
 "nbformat_minor": 2
}
